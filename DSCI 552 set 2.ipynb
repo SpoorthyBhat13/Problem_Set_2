{
 "cells": [
  {
   "cell_type": "markdown",
   "metadata": {},
   "source": [
    "## I. Importing libraries"
   ]
  },
  {
   "cell_type": "code",
   "execution_count": 1,
   "metadata": {},
   "outputs": [],
   "source": [
    "import numpy as np\n",
    "import pandas as pd\n",
    "import matplotlib.pyplot as plt\n",
    "import seaborn as sns\n",
    "\n",
    "%matplotlib inline"
   ]
  },
  {
   "cell_type": "markdown",
   "metadata": {},
   "source": [
    "## II. Importing and understanding our dataset "
   ]
  },
  {
   "cell_type": "code",
   "execution_count": 2,
   "metadata": {},
   "outputs": [],
   "source": [
    "dataset = pd.read_csv(\"ps2_available_dataset.csv\")"
   ]
  },
  {
   "cell_type": "markdown",
   "metadata": {},
   "source": [
    "#### Verifying it as a 'dataframe' object in pandas"
   ]
  },
  {
   "cell_type": "code",
   "execution_count": 3,
   "metadata": {},
   "outputs": [
    {
     "data": {
      "text/plain": [
       "pandas.core.frame.DataFrame"
      ]
     },
     "execution_count": 3,
     "metadata": {},
     "output_type": "execute_result"
    }
   ],
   "source": [
    "type(dataset)"
   ]
  },
  {
   "cell_type": "markdown",
   "metadata": {},
   "source": [
    "#### Shape of dataset"
   ]
  },
  {
   "cell_type": "code",
   "execution_count": 4,
   "metadata": {},
   "outputs": [
    {
     "data": {
      "text/plain": [
       "(10000, 11)"
      ]
     },
     "execution_count": 4,
     "metadata": {},
     "output_type": "execute_result"
    }
   ],
   "source": [
    "dataset.shape"
   ]
  },
  {
   "cell_type": "markdown",
   "metadata": {},
   "source": [
    "#### Printing out a few columns for better visualization of data"
   ]
  },
  {
   "cell_type": "code",
   "execution_count": 5,
   "metadata": {
    "scrolled": true
   },
   "outputs": [
    {
     "data": {
      "text/html": [
       "<div>\n",
       "<style scoped>\n",
       "    .dataframe tbody tr th:only-of-type {\n",
       "        vertical-align: middle;\n",
       "    }\n",
       "\n",
       "    .dataframe tbody tr th {\n",
       "        vertical-align: top;\n",
       "    }\n",
       "\n",
       "    .dataframe thead th {\n",
       "        text-align: right;\n",
       "    }\n",
       "</style>\n",
       "<table border=\"1\" class=\"dataframe\">\n",
       "  <thead>\n",
       "    <tr style=\"text-align: right;\">\n",
       "      <th></th>\n",
       "      <th>treatment</th>\n",
       "      <th>age</th>\n",
       "      <th>blood_pressure</th>\n",
       "      <th>gender</th>\n",
       "      <th>blood_test</th>\n",
       "      <th>family_history</th>\n",
       "      <th>MeasureA</th>\n",
       "      <th>TestB</th>\n",
       "      <th>GeneA</th>\n",
       "      <th>GeneB</th>\n",
       "      <th>GeneC</th>\n",
       "    </tr>\n",
       "  </thead>\n",
       "  <tbody>\n",
       "    <tr>\n",
       "      <td>0</td>\n",
       "      <td>1</td>\n",
       "      <td>74</td>\n",
       "      <td>94.113373</td>\n",
       "      <td>non-female</td>\n",
       "      <td>negative</td>\n",
       "      <td>False</td>\n",
       "      <td>-11.035690</td>\n",
       "      <td>-0.336843</td>\n",
       "      <td>double</td>\n",
       "      <td>1</td>\n",
       "      <td>0</td>\n",
       "    </tr>\n",
       "    <tr>\n",
       "      <td>1</td>\n",
       "      <td>1</td>\n",
       "      <td>56</td>\n",
       "      <td>83.337745</td>\n",
       "      <td>non-female</td>\n",
       "      <td>negative</td>\n",
       "      <td>False</td>\n",
       "      <td>-3.982345</td>\n",
       "      <td>-0.018734</td>\n",
       "      <td>none</td>\n",
       "      <td>1</td>\n",
       "      <td>1</td>\n",
       "    </tr>\n",
       "    <tr>\n",
       "      <td>2</td>\n",
       "      <td>0</td>\n",
       "      <td>37</td>\n",
       "      <td>81.759240</td>\n",
       "      <td>female</td>\n",
       "      <td>negative</td>\n",
       "      <td>False</td>\n",
       "      <td>6.205701</td>\n",
       "      <td>0.147933</td>\n",
       "      <td>double</td>\n",
       "      <td>1</td>\n",
       "      <td>1</td>\n",
       "    </tr>\n",
       "    <tr>\n",
       "      <td>3</td>\n",
       "      <td>1</td>\n",
       "      <td>54</td>\n",
       "      <td>88.549518</td>\n",
       "      <td>female</td>\n",
       "      <td>negative</td>\n",
       "      <td>False</td>\n",
       "      <td>-1.827613</td>\n",
       "      <td>-0.338373</td>\n",
       "      <td>none</td>\n",
       "      <td>1</td>\n",
       "      <td>1</td>\n",
       "    </tr>\n",
       "    <tr>\n",
       "      <td>4</td>\n",
       "      <td>0</td>\n",
       "      <td>73</td>\n",
       "      <td>82.171555</td>\n",
       "      <td>female</td>\n",
       "      <td>negative</td>\n",
       "      <td>NaN</td>\n",
       "      <td>-14.637389</td>\n",
       "      <td>-0.369325</td>\n",
       "      <td>none</td>\n",
       "      <td>1</td>\n",
       "      <td>1</td>\n",
       "    </tr>\n",
       "  </tbody>\n",
       "</table>\n",
       "</div>"
      ],
      "text/plain": [
       "   treatment  age  blood_pressure      gender blood_test family_history  \\\n",
       "0          1   74       94.113373  non-female   negative          False   \n",
       "1          1   56       83.337745  non-female   negative          False   \n",
       "2          0   37       81.759240      female   negative          False   \n",
       "3          1   54       88.549518      female   negative          False   \n",
       "4          0   73       82.171555      female   negative            NaN   \n",
       "\n",
       "    MeasureA     TestB   GeneA  GeneB  GeneC  \n",
       "0 -11.035690 -0.336843  double      1      0  \n",
       "1  -3.982345 -0.018734    none      1      1  \n",
       "2   6.205701  0.147933  double      1      1  \n",
       "3  -1.827613 -0.338373    none      1      1  \n",
       "4 -14.637389 -0.369325    none      1      1  "
      ]
     },
     "execution_count": 5,
     "metadata": {},
     "output_type": "execute_result"
    }
   ],
   "source": [
    "dataset.head(5)"
   ]
  },
  {
   "cell_type": "markdown",
   "metadata": {},
   "source": [
    "#### Checking if any columns have null value"
   ]
  },
  {
   "cell_type": "code",
   "execution_count": 6,
   "metadata": {
    "scrolled": true
   },
   "outputs": [
    {
     "data": {
      "text/plain": [
       "treatment         False\n",
       "age               False\n",
       "blood_pressure    False\n",
       "gender            False\n",
       "blood_test        False\n",
       "family_history     True\n",
       "MeasureA          False\n",
       "TestB             False\n",
       "GeneA             False\n",
       "GeneB             False\n",
       "GeneC             False\n",
       "dtype: bool"
      ]
     },
     "execution_count": 6,
     "metadata": {},
     "output_type": "execute_result"
    }
   ],
   "source": [
    "dataset.isnull().any()"
   ]
  },
  {
   "cell_type": "markdown",
   "metadata": {},
   "source": [
    "#### Looks like family_history has null values\n",
    "## III. Data Preprocessing ####\n",
    "#### Filling these values with the mode"
   ]
  },
  {
   "cell_type": "code",
   "execution_count": 7,
   "metadata": {
    "scrolled": true
   },
   "outputs": [
    {
     "data": {
      "text/html": [
       "<div>\n",
       "<style scoped>\n",
       "    .dataframe tbody tr th:only-of-type {\n",
       "        vertical-align: middle;\n",
       "    }\n",
       "\n",
       "    .dataframe tbody tr th {\n",
       "        vertical-align: top;\n",
       "    }\n",
       "\n",
       "    .dataframe thead th {\n",
       "        text-align: right;\n",
       "    }\n",
       "</style>\n",
       "<table border=\"1\" class=\"dataframe\">\n",
       "  <thead>\n",
       "    <tr style=\"text-align: right;\">\n",
       "      <th></th>\n",
       "      <th>treatment</th>\n",
       "      <th>age</th>\n",
       "      <th>blood_pressure</th>\n",
       "      <th>gender</th>\n",
       "      <th>blood_test</th>\n",
       "      <th>family_history</th>\n",
       "      <th>MeasureA</th>\n",
       "      <th>TestB</th>\n",
       "      <th>GeneA</th>\n",
       "      <th>GeneB</th>\n",
       "      <th>GeneC</th>\n",
       "    </tr>\n",
       "  </thead>\n",
       "  <tbody>\n",
       "    <tr>\n",
       "      <td>0</td>\n",
       "      <td>1</td>\n",
       "      <td>74</td>\n",
       "      <td>94.113373</td>\n",
       "      <td>non-female</td>\n",
       "      <td>negative</td>\n",
       "      <td>False</td>\n",
       "      <td>-11.035690</td>\n",
       "      <td>-0.336843</td>\n",
       "      <td>double</td>\n",
       "      <td>1</td>\n",
       "      <td>0</td>\n",
       "    </tr>\n",
       "    <tr>\n",
       "      <td>1</td>\n",
       "      <td>1</td>\n",
       "      <td>56</td>\n",
       "      <td>83.337745</td>\n",
       "      <td>non-female</td>\n",
       "      <td>negative</td>\n",
       "      <td>False</td>\n",
       "      <td>-3.982345</td>\n",
       "      <td>-0.018734</td>\n",
       "      <td>none</td>\n",
       "      <td>1</td>\n",
       "      <td>1</td>\n",
       "    </tr>\n",
       "    <tr>\n",
       "      <td>2</td>\n",
       "      <td>0</td>\n",
       "      <td>37</td>\n",
       "      <td>81.759240</td>\n",
       "      <td>female</td>\n",
       "      <td>negative</td>\n",
       "      <td>False</td>\n",
       "      <td>6.205701</td>\n",
       "      <td>0.147933</td>\n",
       "      <td>double</td>\n",
       "      <td>1</td>\n",
       "      <td>1</td>\n",
       "    </tr>\n",
       "    <tr>\n",
       "      <td>3</td>\n",
       "      <td>1</td>\n",
       "      <td>54</td>\n",
       "      <td>88.549518</td>\n",
       "      <td>female</td>\n",
       "      <td>negative</td>\n",
       "      <td>False</td>\n",
       "      <td>-1.827613</td>\n",
       "      <td>-0.338373</td>\n",
       "      <td>none</td>\n",
       "      <td>1</td>\n",
       "      <td>1</td>\n",
       "    </tr>\n",
       "    <tr>\n",
       "      <td>4</td>\n",
       "      <td>0</td>\n",
       "      <td>73</td>\n",
       "      <td>82.171555</td>\n",
       "      <td>female</td>\n",
       "      <td>negative</td>\n",
       "      <td>False</td>\n",
       "      <td>-14.637389</td>\n",
       "      <td>-0.369325</td>\n",
       "      <td>none</td>\n",
       "      <td>1</td>\n",
       "      <td>1</td>\n",
       "    </tr>\n",
       "    <tr>\n",
       "      <td>...</td>\n",
       "      <td>...</td>\n",
       "      <td>...</td>\n",
       "      <td>...</td>\n",
       "      <td>...</td>\n",
       "      <td>...</td>\n",
       "      <td>...</td>\n",
       "      <td>...</td>\n",
       "      <td>...</td>\n",
       "      <td>...</td>\n",
       "      <td>...</td>\n",
       "      <td>...</td>\n",
       "    </tr>\n",
       "    <tr>\n",
       "      <td>9995</td>\n",
       "      <td>1</td>\n",
       "      <td>49</td>\n",
       "      <td>89.036800</td>\n",
       "      <td>non-female</td>\n",
       "      <td>negative</td>\n",
       "      <td>False</td>\n",
       "      <td>-1.384107</td>\n",
       "      <td>-0.333167</td>\n",
       "      <td>double</td>\n",
       "      <td>1</td>\n",
       "      <td>0</td>\n",
       "    </tr>\n",
       "    <tr>\n",
       "      <td>9996</td>\n",
       "      <td>0</td>\n",
       "      <td>64</td>\n",
       "      <td>90.848126</td>\n",
       "      <td>non-female</td>\n",
       "      <td>negative</td>\n",
       "      <td>False</td>\n",
       "      <td>-6.560963</td>\n",
       "      <td>-0.015892</td>\n",
       "      <td>double</td>\n",
       "      <td>1</td>\n",
       "      <td>0</td>\n",
       "    </tr>\n",
       "    <tr>\n",
       "      <td>9997</td>\n",
       "      <td>0</td>\n",
       "      <td>54</td>\n",
       "      <td>82.028043</td>\n",
       "      <td>female</td>\n",
       "      <td>negative</td>\n",
       "      <td>False</td>\n",
       "      <td>-3.192784</td>\n",
       "      <td>-0.317267</td>\n",
       "      <td>none</td>\n",
       "      <td>1</td>\n",
       "      <td>0</td>\n",
       "    </tr>\n",
       "    <tr>\n",
       "      <td>9998</td>\n",
       "      <td>1</td>\n",
       "      <td>54</td>\n",
       "      <td>82.246645</td>\n",
       "      <td>female</td>\n",
       "      <td>negative</td>\n",
       "      <td>False</td>\n",
       "      <td>-4.138708</td>\n",
       "      <td>-0.042504</td>\n",
       "      <td>double</td>\n",
       "      <td>1</td>\n",
       "      <td>1</td>\n",
       "    </tr>\n",
       "    <tr>\n",
       "      <td>9999</td>\n",
       "      <td>0</td>\n",
       "      <td>67</td>\n",
       "      <td>83.397145</td>\n",
       "      <td>female</td>\n",
       "      <td>negative</td>\n",
       "      <td>False</td>\n",
       "      <td>-9.589529</td>\n",
       "      <td>-0.083334</td>\n",
       "      <td>none</td>\n",
       "      <td>1</td>\n",
       "      <td>0</td>\n",
       "    </tr>\n",
       "  </tbody>\n",
       "</table>\n",
       "<p>10000 rows × 11 columns</p>\n",
       "</div>"
      ],
      "text/plain": [
       "      treatment  age  blood_pressure      gender blood_test  family_history  \\\n",
       "0             1   74       94.113373  non-female   negative           False   \n",
       "1             1   56       83.337745  non-female   negative           False   \n",
       "2             0   37       81.759240      female   negative           False   \n",
       "3             1   54       88.549518      female   negative           False   \n",
       "4             0   73       82.171555      female   negative           False   \n",
       "...         ...  ...             ...         ...        ...             ...   \n",
       "9995          1   49       89.036800  non-female   negative           False   \n",
       "9996          0   64       90.848126  non-female   negative           False   \n",
       "9997          0   54       82.028043      female   negative           False   \n",
       "9998          1   54       82.246645      female   negative           False   \n",
       "9999          0   67       83.397145      female   negative           False   \n",
       "\n",
       "       MeasureA     TestB   GeneA  GeneB  GeneC  \n",
       "0    -11.035690 -0.336843  double      1      0  \n",
       "1     -3.982345 -0.018734    none      1      1  \n",
       "2      6.205701  0.147933  double      1      1  \n",
       "3     -1.827613 -0.338373    none      1      1  \n",
       "4    -14.637389 -0.369325    none      1      1  \n",
       "...         ...       ...     ...    ...    ...  \n",
       "9995  -1.384107 -0.333167  double      1      0  \n",
       "9996  -6.560963 -0.015892  double      1      0  \n",
       "9997  -3.192784 -0.317267    none      1      0  \n",
       "9998  -4.138708 -0.042504  double      1      1  \n",
       "9999  -9.589529 -0.083334    none      1      0  \n",
       "\n",
       "[10000 rows x 11 columns]"
      ]
     },
     "execution_count": 7,
     "metadata": {},
     "output_type": "execute_result"
    }
   ],
   "source": [
    "dataset['family_history'] = dataset['family_history'].fillna(dataset['family_history'].mode()[0])\n",
    "dataset"
   ]
  },
  {
   "cell_type": "markdown",
   "metadata": {},
   "source": [
    "#### Finding the number of categories in categorical variables"
   ]
  },
  {
   "cell_type": "code",
   "execution_count": 8,
   "metadata": {},
   "outputs": [
    {
     "name": "stdout",
     "output_type": "stream",
     "text": [
      "<class 'pandas.core.frame.DataFrame'>\n",
      "RangeIndex: 10000 entries, 0 to 9999\n",
      "Data columns (total 11 columns):\n",
      "treatment         10000 non-null int64\n",
      "age               10000 non-null int64\n",
      "blood_pressure    10000 non-null float64\n",
      "gender            10000 non-null object\n",
      "blood_test        10000 non-null object\n",
      "family_history    10000 non-null bool\n",
      "MeasureA          10000 non-null float64\n",
      "TestB             10000 non-null float64\n",
      "GeneA             10000 non-null object\n",
      "GeneB             10000 non-null int64\n",
      "GeneC             10000 non-null int64\n",
      "dtypes: bool(1), float64(3), int64(4), object(3)\n",
      "memory usage: 791.1+ KB\n"
     ]
    }
   ],
   "source": [
    "dataset.info()"
   ]
  },
  {
   "cell_type": "code",
   "execution_count": 9,
   "metadata": {},
   "outputs": [
    {
     "data": {
      "text/plain": [
       "0    6413\n",
       "1    3587\n",
       "Name: treatment, dtype: int64"
      ]
     },
     "execution_count": 9,
     "metadata": {},
     "output_type": "execute_result"
    },
    {
     "data": {
      "image/png": "[encoded data removed]",
      "text/plain": [
       "<Figure size 432x288 with 1 Axes>"
      ]
     },
     "metadata": {
      "needs_background": "light"
     },
     "output_type": "display_data"
    }
   ],
   "source": [
    "y = dataset[\"treatment\"]\n",
    "\n",
    "sns.countplot(y)\n",
    "\n",
    "dataset[\"treatment\"].value_counts()"
   ]
  },
  {
   "cell_type": "code",
   "execution_count": 10,
   "metadata": {
    "scrolled": true
   },
   "outputs": [
    {
     "data": {
      "text/plain": [
       "female        6362\n",
       "non-female    3638\n",
       "Name: gender, dtype: int64"
      ]
     },
     "execution_count": 10,
     "metadata": {},
     "output_type": "execute_result"
    }
   ],
   "source": [
    "dataset[\"gender\"].value_counts()"
   ]
  },
  {
   "cell_type": "code",
   "execution_count": 11,
   "metadata": {},
   "outputs": [
    {
     "data": {
      "text/plain": [
       "negative    9067\n",
       "positive     933\n",
       "Name: blood_test, dtype: int64"
      ]
     },
     "execution_count": 11,
     "metadata": {},
     "output_type": "execute_result"
    }
   ],
   "source": [
    "dataset[\"blood_test\"].value_counts()"
   ]
  },
  {
   "cell_type": "code",
   "execution_count": 12,
   "metadata": {},
   "outputs": [
    {
     "data": {
      "text/plain": [
       "False    9900\n",
       "True      100\n",
       "Name: family_history, dtype: int64"
      ]
     },
     "execution_count": 12,
     "metadata": {},
     "output_type": "execute_result"
    }
   ],
   "source": [
    "dataset[\"family_history\"].value_counts()"
   ]
  },
  {
   "cell_type": "code",
   "execution_count": 13,
   "metadata": {},
   "outputs": [
    {
     "data": {
      "text/plain": [
       "none      4482\n",
       "double    3479\n",
       "single    2039\n",
       "Name: GeneA, dtype: int64"
      ]
     },
     "execution_count": 13,
     "metadata": {},
     "output_type": "execute_result"
    }
   ],
   "source": [
    "dataset[\"GeneA\"].value_counts()"
   ]
  },
  {
   "cell_type": "markdown",
   "metadata": {},
   "source": [
    "#### Performing one hot encoding"
   ]
  },
  {
   "cell_type": "code",
   "execution_count": 14,
   "metadata": {},
   "outputs": [],
   "source": [
    "#dataset[\"gender\"] = dataset[\"gender\"].astype('category')\n",
    "#dataset[\"gender\"] = dataset[\"gender\"].cat.codes\n",
    "dataset1 = pd.concat([dataset,pd.get_dummies(dataset['gender'], prefix='Gender')],axis=1).drop(['gender'],axis=1)"
   ]
  },
  {
   "cell_type": "code",
   "execution_count": 15,
   "metadata": {},
   "outputs": [
    {
     "data": {
      "text/html": [
       "<div>\n",
       "<style scoped>\n",
       "    .dataframe tbody tr th:only-of-type {\n",
       "        vertical-align: middle;\n",
       "    }\n",
       "\n",
       "    .dataframe tbody tr th {\n",
       "        vertical-align: top;\n",
       "    }\n",
       "\n",
       "    .dataframe thead th {\n",
       "        text-align: right;\n",
       "    }\n",
       "</style>\n",
       "<table border=\"1\" class=\"dataframe\">\n",
       "  <thead>\n",
       "    <tr style=\"text-align: right;\">\n",
       "      <th></th>\n",
       "      <th>treatment</th>\n",
       "      <th>age</th>\n",
       "      <th>blood_pressure</th>\n",
       "      <th>family_history</th>\n",
       "      <th>MeasureA</th>\n",
       "      <th>TestB</th>\n",
       "      <th>GeneA</th>\n",
       "      <th>GeneB</th>\n",
       "      <th>GeneC</th>\n",
       "      <th>Gender_female</th>\n",
       "      <th>Gender_non-female</th>\n",
       "      <th>Blood_test_negative</th>\n",
       "      <th>Blood_test_positive</th>\n",
       "    </tr>\n",
       "  </thead>\n",
       "  <tbody>\n",
       "    <tr>\n",
       "      <td>0</td>\n",
       "      <td>1</td>\n",
       "      <td>74</td>\n",
       "      <td>94.113373</td>\n",
       "      <td>False</td>\n",
       "      <td>-11.035690</td>\n",
       "      <td>-0.336843</td>\n",
       "      <td>double</td>\n",
       "      <td>1</td>\n",
       "      <td>0</td>\n",
       "      <td>0</td>\n",
       "      <td>1</td>\n",
       "      <td>1</td>\n",
       "      <td>0</td>\n",
       "    </tr>\n",
       "    <tr>\n",
       "      <td>1</td>\n",
       "      <td>1</td>\n",
       "      <td>56</td>\n",
       "      <td>83.337745</td>\n",
       "      <td>False</td>\n",
       "      <td>-3.982345</td>\n",
       "      <td>-0.018734</td>\n",
       "      <td>none</td>\n",
       "      <td>1</td>\n",
       "      <td>1</td>\n",
       "      <td>0</td>\n",
       "      <td>1</td>\n",
       "      <td>1</td>\n",
       "      <td>0</td>\n",
       "    </tr>\n",
       "    <tr>\n",
       "      <td>2</td>\n",
       "      <td>0</td>\n",
       "      <td>37</td>\n",
       "      <td>81.759240</td>\n",
       "      <td>False</td>\n",
       "      <td>6.205701</td>\n",
       "      <td>0.147933</td>\n",
       "      <td>double</td>\n",
       "      <td>1</td>\n",
       "      <td>1</td>\n",
       "      <td>1</td>\n",
       "      <td>0</td>\n",
       "      <td>1</td>\n",
       "      <td>0</td>\n",
       "    </tr>\n",
       "    <tr>\n",
       "      <td>3</td>\n",
       "      <td>1</td>\n",
       "      <td>54</td>\n",
       "      <td>88.549518</td>\n",
       "      <td>False</td>\n",
       "      <td>-1.827613</td>\n",
       "      <td>-0.338373</td>\n",
       "      <td>none</td>\n",
       "      <td>1</td>\n",
       "      <td>1</td>\n",
       "      <td>1</td>\n",
       "      <td>0</td>\n",
       "      <td>1</td>\n",
       "      <td>0</td>\n",
       "    </tr>\n",
       "    <tr>\n",
       "      <td>4</td>\n",
       "      <td>0</td>\n",
       "      <td>73</td>\n",
       "      <td>82.171555</td>\n",
       "      <td>False</td>\n",
       "      <td>-14.637389</td>\n",
       "      <td>-0.369325</td>\n",
       "      <td>none</td>\n",
       "      <td>1</td>\n",
       "      <td>1</td>\n",
       "      <td>1</td>\n",
       "      <td>0</td>\n",
       "      <td>1</td>\n",
       "      <td>0</td>\n",
       "    </tr>\n",
       "    <tr>\n",
       "      <td>...</td>\n",
       "      <td>...</td>\n",
       "      <td>...</td>\n",
       "      <td>...</td>\n",
       "      <td>...</td>\n",
       "      <td>...</td>\n",
       "      <td>...</td>\n",
       "      <td>...</td>\n",
       "      <td>...</td>\n",
       "      <td>...</td>\n",
       "      <td>...</td>\n",
       "      <td>...</td>\n",
       "      <td>...</td>\n",
       "      <td>...</td>\n",
       "    </tr>\n",
       "    <tr>\n",
       "      <td>9995</td>\n",
       "      <td>1</td>\n",
       "      <td>49</td>\n",
       "      <td>89.036800</td>\n",
       "      <td>False</td>\n",
       "      <td>-1.384107</td>\n",
       "      <td>-0.333167</td>\n",
       "      <td>double</td>\n",
       "      <td>1</td>\n",
       "      <td>0</td>\n",
       "      <td>0</td>\n",
       "      <td>1</td>\n",
       "      <td>1</td>\n",
       "      <td>0</td>\n",
       "    </tr>\n",
       "    <tr>\n",
       "      <td>9996</td>\n",
       "      <td>0</td>\n",
       "      <td>64</td>\n",
       "      <td>90.848126</td>\n",
       "      <td>False</td>\n",
       "      <td>-6.560963</td>\n",
       "      <td>-0.015892</td>\n",
       "      <td>double</td>\n",
       "      <td>1</td>\n",
       "      <td>0</td>\n",
       "      <td>0</td>\n",
       "      <td>1</td>\n",
       "      <td>1</td>\n",
       "      <td>0</td>\n",
       "    </tr>\n",
       "    <tr>\n",
       "      <td>9997</td>\n",
       "      <td>0</td>\n",
       "      <td>54</td>\n",
       "      <td>82.028043</td>\n",
       "      <td>False</td>\n",
       "      <td>-3.192784</td>\n",
       "      <td>-0.317267</td>\n",
       "      <td>none</td>\n",
       "      <td>1</td>\n",
       "      <td>0</td>\n",
       "      <td>1</td>\n",
       "      <td>0</td>\n",
       "      <td>1</td>\n",
       "      <td>0</td>\n",
       "    </tr>\n",
       "    <tr>\n",
       "      <td>9998</td>\n",
       "      <td>1</td>\n",
       "      <td>54</td>\n",
       "      <td>82.246645</td>\n",
       "      <td>False</td>\n",
       "      <td>-4.138708</td>\n",
       "      <td>-0.042504</td>\n",
       "      <td>double</td>\n",
       "      <td>1</td>\n",
       "      <td>1</td>\n",
       "      <td>1</td>\n",
       "      <td>0</td>\n",
       "      <td>1</td>\n",
       "      <td>0</td>\n",
       "    </tr>\n",
       "    <tr>\n",
       "      <td>9999</td>\n",
       "      <td>0</td>\n",
       "      <td>67</td>\n",
       "      <td>83.397145</td>\n",
       "      <td>False</td>\n",
       "      <td>-9.589529</td>\n",
       "      <td>-0.083334</td>\n",
       "      <td>none</td>\n",
       "      <td>1</td>\n",
       "      <td>0</td>\n",
       "      <td>1</td>\n",
       "      <td>0</td>\n",
       "      <td>1</td>\n",
       "      <td>0</td>\n",
       "    </tr>\n",
       "  </tbody>\n",
       "</table>\n",
       "<p>10000 rows × 13 columns</p>\n",
       "</div>"
      ],
      "text/plain": [
       "      treatment  age  blood_pressure  family_history   MeasureA     TestB  \\\n",
       "0             1   74       94.113373           False -11.035690 -0.336843   \n",
       "1             1   56       83.337745           False  -3.982345 -0.018734   \n",
       "2             0   37       81.759240           False   6.205701  0.147933   \n",
       "3             1   54       88.549518           False  -1.827613 -0.338373   \n",
       "4             0   73       82.171555           False -14.637389 -0.369325   \n",
       "...         ...  ...             ...             ...        ...       ...   \n",
       "9995          1   49       89.036800           False  -1.384107 -0.333167   \n",
       "9996          0   64       90.848126           False  -6.560963 -0.015892   \n",
       "9997          0   54       82.028043           False  -3.192784 -0.317267   \n",
       "9998          1   54       82.246645           False  -4.138708 -0.042504   \n",
       "9999          0   67       83.397145           False  -9.589529 -0.083334   \n",
       "\n",
       "       GeneA  GeneB  GeneC  Gender_female  Gender_non-female  \\\n",
       "0     double      1      0              0                  1   \n",
       "1       none      1      1              0                  1   \n",
       "2     double      1      1              1                  0   \n",
       "3       none      1      1              1                  0   \n",
       "4       none      1      1              1                  0   \n",
       "...      ...    ...    ...            ...                ...   \n",
       "9995  double      1      0              0                  1   \n",
       "9996  double      1      0              0                  1   \n",
       "9997    none      1      0              1                  0   \n",
       "9998  double      1      1              1                  0   \n",
       "9999    none      1      0              1                  0   \n",
       "\n",
       "      Blood_test_negative  Blood_test_positive  \n",
       "0                       1                    0  \n",
       "1                       1                    0  \n",
       "2                       1                    0  \n",
       "3                       1                    0  \n",
       "4                       1                    0  \n",
       "...                   ...                  ...  \n",
       "9995                    1                    0  \n",
       "9996                    1                    0  \n",
       "9997                    1                    0  \n",
       "9998                    1                    0  \n",
       "9999                    1                    0  \n",
       "\n",
       "[10000 rows x 13 columns]"
      ]
     },
     "execution_count": 15,
     "metadata": {},
     "output_type": "execute_result"
    }
   ],
   "source": [
    "dataset2 = pd.concat([dataset1,pd.get_dummies(dataset['blood_test'], prefix='Blood_test')],axis=1).drop(['blood_test'],axis=1)\n",
    "dataset2"
   ]
  },
  {
   "cell_type": "code",
   "execution_count": 16,
   "metadata": {},
   "outputs": [
    {
     "data": {
      "text/html": [
       "<div>\n",
       "<style scoped>\n",
       "    .dataframe tbody tr th:only-of-type {\n",
       "        vertical-align: middle;\n",
       "    }\n",
       "\n",
       "    .dataframe tbody tr th {\n",
       "        vertical-align: top;\n",
       "    }\n",
       "\n",
       "    .dataframe thead th {\n",
       "        text-align: right;\n",
       "    }\n",
       "</style>\n",
       "<table border=\"1\" class=\"dataframe\">\n",
       "  <thead>\n",
       "    <tr style=\"text-align: right;\">\n",
       "      <th></th>\n",
       "      <th>treatment</th>\n",
       "      <th>age</th>\n",
       "      <th>blood_pressure</th>\n",
       "      <th>MeasureA</th>\n",
       "      <th>TestB</th>\n",
       "      <th>GeneA</th>\n",
       "      <th>GeneB</th>\n",
       "      <th>GeneC</th>\n",
       "      <th>Gender_female</th>\n",
       "      <th>Gender_non-female</th>\n",
       "      <th>Blood_test_negative</th>\n",
       "      <th>Blood_test_positive</th>\n",
       "      <th>Family_History_False</th>\n",
       "      <th>Family_History_True</th>\n",
       "    </tr>\n",
       "  </thead>\n",
       "  <tbody>\n",
       "    <tr>\n",
       "      <td>0</td>\n",
       "      <td>1</td>\n",
       "      <td>74</td>\n",
       "      <td>94.113373</td>\n",
       "      <td>-11.035690</td>\n",
       "      <td>-0.336843</td>\n",
       "      <td>double</td>\n",
       "      <td>1</td>\n",
       "      <td>0</td>\n",
       "      <td>0</td>\n",
       "      <td>1</td>\n",
       "      <td>1</td>\n",
       "      <td>0</td>\n",
       "      <td>1</td>\n",
       "      <td>0</td>\n",
       "    </tr>\n",
       "    <tr>\n",
       "      <td>1</td>\n",
       "      <td>1</td>\n",
       "      <td>56</td>\n",
       "      <td>83.337745</td>\n",
       "      <td>-3.982345</td>\n",
       "      <td>-0.018734</td>\n",
       "      <td>none</td>\n",
       "      <td>1</td>\n",
       "      <td>1</td>\n",
       "      <td>0</td>\n",
       "      <td>1</td>\n",
       "      <td>1</td>\n",
       "      <td>0</td>\n",
       "      <td>1</td>\n",
       "      <td>0</td>\n",
       "    </tr>\n",
       "    <tr>\n",
       "      <td>2</td>\n",
       "      <td>0</td>\n",
       "      <td>37</td>\n",
       "      <td>81.759240</td>\n",
       "      <td>6.205701</td>\n",
       "      <td>0.147933</td>\n",
       "      <td>double</td>\n",
       "      <td>1</td>\n",
       "      <td>1</td>\n",
       "      <td>1</td>\n",
       "      <td>0</td>\n",
       "      <td>1</td>\n",
       "      <td>0</td>\n",
       "      <td>1</td>\n",
       "      <td>0</td>\n",
       "    </tr>\n",
       "    <tr>\n",
       "      <td>3</td>\n",
       "      <td>1</td>\n",
       "      <td>54</td>\n",
       "      <td>88.549518</td>\n",
       "      <td>-1.827613</td>\n",
       "      <td>-0.338373</td>\n",
       "      <td>none</td>\n",
       "      <td>1</td>\n",
       "      <td>1</td>\n",
       "      <td>1</td>\n",
       "      <td>0</td>\n",
       "      <td>1</td>\n",
       "      <td>0</td>\n",
       "      <td>1</td>\n",
       "      <td>0</td>\n",
       "    </tr>\n",
       "    <tr>\n",
       "      <td>4</td>\n",
       "      <td>0</td>\n",
       "      <td>73</td>\n",
       "      <td>82.171555</td>\n",
       "      <td>-14.637389</td>\n",
       "      <td>-0.369325</td>\n",
       "      <td>none</td>\n",
       "      <td>1</td>\n",
       "      <td>1</td>\n",
       "      <td>1</td>\n",
       "      <td>0</td>\n",
       "      <td>1</td>\n",
       "      <td>0</td>\n",
       "      <td>1</td>\n",
       "      <td>0</td>\n",
       "    </tr>\n",
       "    <tr>\n",
       "      <td>...</td>\n",
       "      <td>...</td>\n",
       "      <td>...</td>\n",
       "      <td>...</td>\n",
       "      <td>...</td>\n",
       "      <td>...</td>\n",
       "      <td>...</td>\n",
       "      <td>...</td>\n",
       "      <td>...</td>\n",
       "      <td>...</td>\n",
       "      <td>...</td>\n",
       "      <td>...</td>\n",
       "      <td>...</td>\n",
       "      <td>...</td>\n",
       "      <td>...</td>\n",
       "    </tr>\n",
       "    <tr>\n",
       "      <td>9995</td>\n",
       "      <td>1</td>\n",
       "      <td>49</td>\n",
       "      <td>89.036800</td>\n",
       "      <td>-1.384107</td>\n",
       "      <td>-0.333167</td>\n",
       "      <td>double</td>\n",
       "      <td>1</td>\n",
       "      <td>0</td>\n",
       "      <td>0</td>\n",
       "      <td>1</td>\n",
       "      <td>1</td>\n",
       "      <td>0</td>\n",
       "      <td>1</td>\n",
       "      <td>0</td>\n",
       "    </tr>\n",
       "    <tr>\n",
       "      <td>9996</td>\n",
       "      <td>0</td>\n",
       "      <td>64</td>\n",
       "      <td>90.848126</td>\n",
       "      <td>-6.560963</td>\n",
       "      <td>-0.015892</td>\n",
       "      <td>double</td>\n",
       "      <td>1</td>\n",
       "      <td>0</td>\n",
       "      <td>0</td>\n",
       "      <td>1</td>\n",
       "      <td>1</td>\n",
       "      <td>0</td>\n",
       "      <td>1</td>\n",
       "      <td>0</td>\n",
       "    </tr>\n",
       "    <tr>\n",
       "      <td>9997</td>\n",
       "      <td>0</td>\n",
       "      <td>54</td>\n",
       "      <td>82.028043</td>\n",
       "      <td>-3.192784</td>\n",
       "      <td>-0.317267</td>\n",
       "      <td>none</td>\n",
       "      <td>1</td>\n",
       "      <td>0</td>\n",
       "      <td>1</td>\n",
       "      <td>0</td>\n",
       "      <td>1</td>\n",
       "      <td>0</td>\n",
       "      <td>1</td>\n",
       "      <td>0</td>\n",
       "    </tr>\n",
       "    <tr>\n",
       "      <td>9998</td>\n",
       "      <td>1</td>\n",
       "      <td>54</td>\n",
       "      <td>82.246645</td>\n",
       "      <td>-4.138708</td>\n",
       "      <td>-0.042504</td>\n",
       "      <td>double</td>\n",
       "      <td>1</td>\n",
       "      <td>1</td>\n",
       "      <td>1</td>\n",
       "      <td>0</td>\n",
       "      <td>1</td>\n",
       "      <td>0</td>\n",
       "      <td>1</td>\n",
       "      <td>0</td>\n",
       "    </tr>\n",
       "    <tr>\n",
       "      <td>9999</td>\n",
       "      <td>0</td>\n",
       "      <td>67</td>\n",
       "      <td>83.397145</td>\n",
       "      <td>-9.589529</td>\n",
       "      <td>-0.083334</td>\n",
       "      <td>none</td>\n",
       "      <td>1</td>\n",
       "      <td>0</td>\n",
       "      <td>1</td>\n",
       "      <td>0</td>\n",
       "      <td>1</td>\n",
       "      <td>0</td>\n",
       "      <td>1</td>\n",
       "      <td>0</td>\n",
       "    </tr>\n",
       "  </tbody>\n",
       "</table>\n",
       "<p>10000 rows × 14 columns</p>\n",
       "</div>"
      ],
      "text/plain": [
       "      treatment  age  blood_pressure   MeasureA     TestB   GeneA  GeneB  \\\n",
       "0             1   74       94.113373 -11.035690 -0.336843  double      1   \n",
       "1             1   56       83.337745  -3.982345 -0.018734    none      1   \n",
       "2             0   37       81.759240   6.205701  0.147933  double      1   \n",
       "3             1   54       88.549518  -1.827613 -0.338373    none      1   \n",
       "4             0   73       82.171555 -14.637389 -0.369325    none      1   \n",
       "...         ...  ...             ...        ...       ...     ...    ...   \n",
       "9995          1   49       89.036800  -1.384107 -0.333167  double      1   \n",
       "9996          0   64       90.848126  -6.560963 -0.015892  double      1   \n",
       "9997          0   54       82.028043  -3.192784 -0.317267    none      1   \n",
       "9998          1   54       82.246645  -4.138708 -0.042504  double      1   \n",
       "9999          0   67       83.397145  -9.589529 -0.083334    none      1   \n",
       "\n",
       "      GeneC  Gender_female  Gender_non-female  Blood_test_negative  \\\n",
       "0         0              0                  1                    1   \n",
       "1         1              0                  1                    1   \n",
       "2         1              1                  0                    1   \n",
       "3         1              1                  0                    1   \n",
       "4         1              1                  0                    1   \n",
       "...     ...            ...                ...                  ...   \n",
       "9995      0              0                  1                    1   \n",
       "9996      0              0                  1                    1   \n",
       "9997      0              1                  0                    1   \n",
       "9998      1              1                  0                    1   \n",
       "9999      0              1                  0                    1   \n",
       "\n",
       "      Blood_test_positive  Family_History_False  Family_History_True  \n",
       "0                       0                     1                    0  \n",
       "1                       0                     1                    0  \n",
       "2                       0                     1                    0  \n",
       "3                       0                     1                    0  \n",
       "4                       0                     1                    0  \n",
       "...                   ...                   ...                  ...  \n",
       "9995                    0                     1                    0  \n",
       "9996                    0                     1                    0  \n",
       "9997                    0                     1                    0  \n",
       "9998                    0                     1                    0  \n",
       "9999                    0                     1                    0  \n",
       "\n",
       "[10000 rows x 14 columns]"
      ]
     },
     "execution_count": 16,
     "metadata": {},
     "output_type": "execute_result"
    }
   ],
   "source": [
    "dataset3 = pd.concat([dataset2,pd.get_dummies(dataset['family_history'], prefix='Family_History')],axis=1).drop(['family_history'],axis=1)\n",
    "dataset3"
   ]
  },
  {
   "cell_type": "code",
   "execution_count": 17,
   "metadata": {},
   "outputs": [
    {
     "data": {
      "text/html": [
       "<div>\n",
       "<style scoped>\n",
       "    .dataframe tbody tr th:only-of-type {\n",
       "        vertical-align: middle;\n",
       "    }\n",
       "\n",
       "    .dataframe tbody tr th {\n",
       "        vertical-align: top;\n",
       "    }\n",
       "\n",
       "    .dataframe thead th {\n",
       "        text-align: right;\n",
       "    }\n",
       "</style>\n",
       "<table border=\"1\" class=\"dataframe\">\n",
       "  <thead>\n",
       "    <tr style=\"text-align: right;\">\n",
       "      <th></th>\n",
       "      <th>treatment</th>\n",
       "      <th>age</th>\n",
       "      <th>blood_pressure</th>\n",
       "      <th>MeasureA</th>\n",
       "      <th>TestB</th>\n",
       "      <th>GeneB</th>\n",
       "      <th>GeneC</th>\n",
       "      <th>Gender_female</th>\n",
       "      <th>Gender_non-female</th>\n",
       "      <th>Blood_test_negative</th>\n",
       "      <th>Blood_test_positive</th>\n",
       "      <th>Family_History_False</th>\n",
       "      <th>Family_History_True</th>\n",
       "      <th>GeneA_double</th>\n",
       "      <th>GeneA_none</th>\n",
       "      <th>GeneA_single</th>\n",
       "    </tr>\n",
       "  </thead>\n",
       "  <tbody>\n",
       "    <tr>\n",
       "      <td>0</td>\n",
       "      <td>1</td>\n",
       "      <td>74</td>\n",
       "      <td>94.113373</td>\n",
       "      <td>-11.035690</td>\n",
       "      <td>-0.336843</td>\n",
       "      <td>1</td>\n",
       "      <td>0</td>\n",
       "      <td>0</td>\n",
       "      <td>1</td>\n",
       "      <td>1</td>\n",
       "      <td>0</td>\n",
       "      <td>1</td>\n",
       "      <td>0</td>\n",
       "      <td>1</td>\n",
       "      <td>0</td>\n",
       "      <td>0</td>\n",
       "    </tr>\n",
       "    <tr>\n",
       "      <td>1</td>\n",
       "      <td>1</td>\n",
       "      <td>56</td>\n",
       "      <td>83.337745</td>\n",
       "      <td>-3.982345</td>\n",
       "      <td>-0.018734</td>\n",
       "      <td>1</td>\n",
       "      <td>1</td>\n",
       "      <td>0</td>\n",
       "      <td>1</td>\n",
       "      <td>1</td>\n",
       "      <td>0</td>\n",
       "      <td>1</td>\n",
       "      <td>0</td>\n",
       "      <td>0</td>\n",
       "      <td>1</td>\n",
       "      <td>0</td>\n",
       "    </tr>\n",
       "    <tr>\n",
       "      <td>2</td>\n",
       "      <td>0</td>\n",
       "      <td>37</td>\n",
       "      <td>81.759240</td>\n",
       "      <td>6.205701</td>\n",
       "      <td>0.147933</td>\n",
       "      <td>1</td>\n",
       "      <td>1</td>\n",
       "      <td>1</td>\n",
       "      <td>0</td>\n",
       "      <td>1</td>\n",
       "      <td>0</td>\n",
       "      <td>1</td>\n",
       "      <td>0</td>\n",
       "      <td>1</td>\n",
       "      <td>0</td>\n",
       "      <td>0</td>\n",
       "    </tr>\n",
       "    <tr>\n",
       "      <td>3</td>\n",
       "      <td>1</td>\n",
       "      <td>54</td>\n",
       "      <td>88.549518</td>\n",
       "      <td>-1.827613</td>\n",
       "      <td>-0.338373</td>\n",
       "      <td>1</td>\n",
       "      <td>1</td>\n",
       "      <td>1</td>\n",
       "      <td>0</td>\n",
       "      <td>1</td>\n",
       "      <td>0</td>\n",
       "      <td>1</td>\n",
       "      <td>0</td>\n",
       "      <td>0</td>\n",
       "      <td>1</td>\n",
       "      <td>0</td>\n",
       "    </tr>\n",
       "    <tr>\n",
       "      <td>4</td>\n",
       "      <td>0</td>\n",
       "      <td>73</td>\n",
       "      <td>82.171555</td>\n",
       "      <td>-14.637389</td>\n",
       "      <td>-0.369325</td>\n",
       "      <td>1</td>\n",
       "      <td>1</td>\n",
       "      <td>1</td>\n",
       "      <td>0</td>\n",
       "      <td>1</td>\n",
       "      <td>0</td>\n",
       "      <td>1</td>\n",
       "      <td>0</td>\n",
       "      <td>0</td>\n",
       "      <td>1</td>\n",
       "      <td>0</td>\n",
       "    </tr>\n",
       "    <tr>\n",
       "      <td>...</td>\n",
       "      <td>...</td>\n",
       "      <td>...</td>\n",
       "      <td>...</td>\n",
       "      <td>...</td>\n",
       "      <td>...</td>\n",
       "      <td>...</td>\n",
       "      <td>...</td>\n",
       "      <td>...</td>\n",
       "      <td>...</td>\n",
       "      <td>...</td>\n",
       "      <td>...</td>\n",
       "      <td>...</td>\n",
       "      <td>...</td>\n",
       "      <td>...</td>\n",
       "      <td>...</td>\n",
       "      <td>...</td>\n",
       "    </tr>\n",
       "    <tr>\n",
       "      <td>9995</td>\n",
       "      <td>1</td>\n",
       "      <td>49</td>\n",
       "      <td>89.036800</td>\n",
       "      <td>-1.384107</td>\n",
       "      <td>-0.333167</td>\n",
       "      <td>1</td>\n",
       "      <td>0</td>\n",
       "      <td>0</td>\n",
       "      <td>1</td>\n",
       "      <td>1</td>\n",
       "      <td>0</td>\n",
       "      <td>1</td>\n",
       "      <td>0</td>\n",
       "      <td>1</td>\n",
       "      <td>0</td>\n",
       "      <td>0</td>\n",
       "    </tr>\n",
       "    <tr>\n",
       "      <td>9996</td>\n",
       "      <td>0</td>\n",
       "      <td>64</td>\n",
       "      <td>90.848126</td>\n",
       "      <td>-6.560963</td>\n",
       "      <td>-0.015892</td>\n",
       "      <td>1</td>\n",
       "      <td>0</td>\n",
       "      <td>0</td>\n",
       "      <td>1</td>\n",
       "      <td>1</td>\n",
       "      <td>0</td>\n",
       "      <td>1</td>\n",
       "      <td>0</td>\n",
       "      <td>1</td>\n",
       "      <td>0</td>\n",
       "      <td>0</td>\n",
       "    </tr>\n",
       "    <tr>\n",
       "      <td>9997</td>\n",
       "      <td>0</td>\n",
       "      <td>54</td>\n",
       "      <td>82.028043</td>\n",
       "      <td>-3.192784</td>\n",
       "      <td>-0.317267</td>\n",
       "      <td>1</td>\n",
       "      <td>0</td>\n",
       "      <td>1</td>\n",
       "      <td>0</td>\n",
       "      <td>1</td>\n",
       "      <td>0</td>\n",
       "      <td>1</td>\n",
       "      <td>0</td>\n",
       "      <td>0</td>\n",
       "      <td>1</td>\n",
       "      <td>0</td>\n",
       "    </tr>\n",
       "    <tr>\n",
       "      <td>9998</td>\n",
       "      <td>1</td>\n",
       "      <td>54</td>\n",
       "      <td>82.246645</td>\n",
       "      <td>-4.138708</td>\n",
       "      <td>-0.042504</td>\n",
       "      <td>1</td>\n",
       "      <td>1</td>\n",
       "      <td>1</td>\n",
       "      <td>0</td>\n",
       "      <td>1</td>\n",
       "      <td>0</td>\n",
       "      <td>1</td>\n",
       "      <td>0</td>\n",
       "      <td>1</td>\n",
       "      <td>0</td>\n",
       "      <td>0</td>\n",
       "    </tr>\n",
       "    <tr>\n",
       "      <td>9999</td>\n",
       "      <td>0</td>\n",
       "      <td>67</td>\n",
       "      <td>83.397145</td>\n",
       "      <td>-9.589529</td>\n",
       "      <td>-0.083334</td>\n",
       "      <td>1</td>\n",
       "      <td>0</td>\n",
       "      <td>1</td>\n",
       "      <td>0</td>\n",
       "      <td>1</td>\n",
       "      <td>0</td>\n",
       "      <td>1</td>\n",
       "      <td>0</td>\n",
       "      <td>0</td>\n",
       "      <td>1</td>\n",
       "      <td>0</td>\n",
       "    </tr>\n",
       "  </tbody>\n",
       "</table>\n",
       "<p>10000 rows × 16 columns</p>\n",
       "</div>"
      ],
      "text/plain": [
       "      treatment  age  blood_pressure   MeasureA     TestB  GeneB  GeneC  \\\n",
       "0             1   74       94.113373 -11.035690 -0.336843      1      0   \n",
       "1             1   56       83.337745  -3.982345 -0.018734      1      1   \n",
       "2             0   37       81.759240   6.205701  0.147933      1      1   \n",
       "3             1   54       88.549518  -1.827613 -0.338373      1      1   \n",
       "4             0   73       82.171555 -14.637389 -0.369325      1      1   \n",
       "...         ...  ...             ...        ...       ...    ...    ...   \n",
       "9995          1   49       89.036800  -1.384107 -0.333167      1      0   \n",
       "9996          0   64       90.848126  -6.560963 -0.015892      1      0   \n",
       "9997          0   54       82.028043  -3.192784 -0.317267      1      0   \n",
       "9998          1   54       82.246645  -4.138708 -0.042504      1      1   \n",
       "9999          0   67       83.397145  -9.589529 -0.083334      1      0   \n",
       "\n",
       "      Gender_female  Gender_non-female  Blood_test_negative  \\\n",
       "0                 0                  1                    1   \n",
       "1                 0                  1                    1   \n",
       "2                 1                  0                    1   \n",
       "3                 1                  0                    1   \n",
       "4                 1                  0                    1   \n",
       "...             ...                ...                  ...   \n",
       "9995              0                  1                    1   \n",
       "9996              0                  1                    1   \n",
       "9997              1                  0                    1   \n",
       "9998              1                  0                    1   \n",
       "9999              1                  0                    1   \n",
       "\n",
       "      Blood_test_positive  Family_History_False  Family_History_True  \\\n",
       "0                       0                     1                    0   \n",
       "1                       0                     1                    0   \n",
       "2                       0                     1                    0   \n",
       "3                       0                     1                    0   \n",
       "4                       0                     1                    0   \n",
       "...                   ...                   ...                  ...   \n",
       "9995                    0                     1                    0   \n",
       "9996                    0                     1                    0   \n",
       "9997                    0                     1                    0   \n",
       "9998                    0                     1                    0   \n",
       "9999                    0                     1                    0   \n",
       "\n",
       "      GeneA_double  GeneA_none  GeneA_single  \n",
       "0                1           0             0  \n",
       "1                0           1             0  \n",
       "2                1           0             0  \n",
       "3                0           1             0  \n",
       "4                0           1             0  \n",
       "...            ...         ...           ...  \n",
       "9995             1           0             0  \n",
       "9996             1           0             0  \n",
       "9997             0           1             0  \n",
       "9998             1           0             0  \n",
       "9999             0           1             0  \n",
       "\n",
       "[10000 rows x 16 columns]"
      ]
     },
     "execution_count": 17,
     "metadata": {},
     "output_type": "execute_result"
    }
   ],
   "source": [
    "dataset4 = pd.concat([dataset3,pd.get_dummies(dataset['GeneA'], prefix='GeneA')],axis=1).drop(['GeneA'],axis=1)\n",
    "dataset4"
   ]
  },
  {
   "cell_type": "markdown",
   "metadata": {},
   "source": [
    "#### Checking to see if all datatypes are numerical or category"
   ]
  },
  {
   "cell_type": "code",
   "execution_count": 18,
   "metadata": {
    "scrolled": true
   },
   "outputs": [
    {
     "data": {
      "text/plain": [
       "treatment                 int64\n",
       "age                       int64\n",
       "blood_pressure          float64\n",
       "MeasureA                float64\n",
       "TestB                   float64\n",
       "GeneB                     int64\n",
       "GeneC                     int64\n",
       "Gender_female             uint8\n",
       "Gender_non-female         uint8\n",
       "Blood_test_negative       uint8\n",
       "Blood_test_positive       uint8\n",
       "Family_History_False      uint8\n",
       "Family_History_True       uint8\n",
       "GeneA_double              uint8\n",
       "GeneA_none                uint8\n",
       "GeneA_single              uint8\n",
       "dtype: object"
      ]
     },
     "execution_count": 18,
     "metadata": {},
     "output_type": "execute_result"
    }
   ],
   "source": [
    "dataset4.dtypes"
   ]
  },
  {
   "cell_type": "code",
   "execution_count": 19,
   "metadata": {
    "scrolled": true
   },
   "outputs": [
    {
     "data": {
      "text/html": [
       "<div>\n",
       "<style scoped>\n",
       "    .dataframe tbody tr th:only-of-type {\n",
       "        vertical-align: middle;\n",
       "    }\n",
       "\n",
       "    .dataframe tbody tr th {\n",
       "        vertical-align: top;\n",
       "    }\n",
       "\n",
       "    .dataframe thead th {\n",
       "        text-align: right;\n",
       "    }\n",
       "</style>\n",
       "<table border=\"1\" class=\"dataframe\">\n",
       "  <thead>\n",
       "    <tr style=\"text-align: right;\">\n",
       "      <th></th>\n",
       "      <th>treatment</th>\n",
       "      <th>age</th>\n",
       "      <th>blood_pressure</th>\n",
       "      <th>MeasureA</th>\n",
       "      <th>TestB</th>\n",
       "      <th>GeneB</th>\n",
       "      <th>GeneC</th>\n",
       "      <th>Gender_female</th>\n",
       "      <th>Gender_non-female</th>\n",
       "      <th>Blood_test_negative</th>\n",
       "      <th>Blood_test_positive</th>\n",
       "      <th>Family_History_False</th>\n",
       "      <th>Family_History_True</th>\n",
       "      <th>GeneA_double</th>\n",
       "      <th>GeneA_none</th>\n",
       "      <th>GeneA_single</th>\n",
       "    </tr>\n",
       "  </thead>\n",
       "  <tbody>\n",
       "    <tr>\n",
       "      <td>0</td>\n",
       "      <td>1</td>\n",
       "      <td>74</td>\n",
       "      <td>94.113373</td>\n",
       "      <td>-11.035690</td>\n",
       "      <td>-0.336843</td>\n",
       "      <td>1</td>\n",
       "      <td>0</td>\n",
       "      <td>0</td>\n",
       "      <td>1</td>\n",
       "      <td>1</td>\n",
       "      <td>0</td>\n",
       "      <td>1</td>\n",
       "      <td>0</td>\n",
       "      <td>1</td>\n",
       "      <td>0</td>\n",
       "      <td>0</td>\n",
       "    </tr>\n",
       "    <tr>\n",
       "      <td>1</td>\n",
       "      <td>1</td>\n",
       "      <td>56</td>\n",
       "      <td>83.337745</td>\n",
       "      <td>-3.982345</td>\n",
       "      <td>-0.018734</td>\n",
       "      <td>1</td>\n",
       "      <td>1</td>\n",
       "      <td>0</td>\n",
       "      <td>1</td>\n",
       "      <td>1</td>\n",
       "      <td>0</td>\n",
       "      <td>1</td>\n",
       "      <td>0</td>\n",
       "      <td>0</td>\n",
       "      <td>1</td>\n",
       "      <td>0</td>\n",
       "    </tr>\n",
       "    <tr>\n",
       "      <td>2</td>\n",
       "      <td>0</td>\n",
       "      <td>37</td>\n",
       "      <td>81.759240</td>\n",
       "      <td>6.205701</td>\n",
       "      <td>0.147933</td>\n",
       "      <td>1</td>\n",
       "      <td>1</td>\n",
       "      <td>1</td>\n",
       "      <td>0</td>\n",
       "      <td>1</td>\n",
       "      <td>0</td>\n",
       "      <td>1</td>\n",
       "      <td>0</td>\n",
       "      <td>1</td>\n",
       "      <td>0</td>\n",
       "      <td>0</td>\n",
       "    </tr>\n",
       "    <tr>\n",
       "      <td>3</td>\n",
       "      <td>1</td>\n",
       "      <td>54</td>\n",
       "      <td>88.549518</td>\n",
       "      <td>-1.827613</td>\n",
       "      <td>-0.338373</td>\n",
       "      <td>1</td>\n",
       "      <td>1</td>\n",
       "      <td>1</td>\n",
       "      <td>0</td>\n",
       "      <td>1</td>\n",
       "      <td>0</td>\n",
       "      <td>1</td>\n",
       "      <td>0</td>\n",
       "      <td>0</td>\n",
       "      <td>1</td>\n",
       "      <td>0</td>\n",
       "    </tr>\n",
       "    <tr>\n",
       "      <td>4</td>\n",
       "      <td>0</td>\n",
       "      <td>73</td>\n",
       "      <td>82.171555</td>\n",
       "      <td>-14.637389</td>\n",
       "      <td>-0.369325</td>\n",
       "      <td>1</td>\n",
       "      <td>1</td>\n",
       "      <td>1</td>\n",
       "      <td>0</td>\n",
       "      <td>1</td>\n",
       "      <td>0</td>\n",
       "      <td>1</td>\n",
       "      <td>0</td>\n",
       "      <td>0</td>\n",
       "      <td>1</td>\n",
       "      <td>0</td>\n",
       "    </tr>\n",
       "  </tbody>\n",
       "</table>\n",
       "</div>"
      ],
      "text/plain": [
       "   treatment  age  blood_pressure   MeasureA     TestB  GeneB  GeneC  \\\n",
       "0          1   74       94.113373 -11.035690 -0.336843      1      0   \n",
       "1          1   56       83.337745  -3.982345 -0.018734      1      1   \n",
       "2          0   37       81.759240   6.205701  0.147933      1      1   \n",
       "3          1   54       88.549518  -1.827613 -0.338373      1      1   \n",
       "4          0   73       82.171555 -14.637389 -0.369325      1      1   \n",
       "\n",
       "   Gender_female  Gender_non-female  Blood_test_negative  Blood_test_positive  \\\n",
       "0              0                  1                    1                    0   \n",
       "1              0                  1                    1                    0   \n",
       "2              1                  0                    1                    0   \n",
       "3              1                  0                    1                    0   \n",
       "4              1                  0                    1                    0   \n",
       "\n",
       "   Family_History_False  Family_History_True  GeneA_double  GeneA_none  \\\n",
       "0                     1                    0             1           0   \n",
       "1                     1                    0             0           1   \n",
       "2                     1                    0             1           0   \n",
       "3                     1                    0             0           1   \n",
       "4                     1                    0             0           1   \n",
       "\n",
       "   GeneA_single  \n",
       "0             0  \n",
       "1             0  \n",
       "2             0  \n",
       "3             0  \n",
       "4             0  "
      ]
     },
     "execution_count": 19,
     "metadata": {},
     "output_type": "execute_result"
    }
   ],
   "source": [
    "dataset4.head()"
   ]
  },
  {
   "cell_type": "markdown",
   "metadata": {},
   "source": [
    "#### Analysing the 'target' variable"
   ]
  },
  {
   "cell_type": "code",
   "execution_count": 20,
   "metadata": {},
   "outputs": [
    {
     "data": {
      "text/plain": [
       "count    10000.000000\n",
       "mean         0.358700\n",
       "std          0.479643\n",
       "min          0.000000\n",
       "25%          0.000000\n",
       "50%          0.000000\n",
       "75%          1.000000\n",
       "max          1.000000\n",
       "Name: treatment, dtype: float64"
      ]
     },
     "execution_count": 20,
     "metadata": {},
     "output_type": "execute_result"
    }
   ],
   "source": [
    "dataset4[\"treatment\"].describe()"
   ]
  },
  {
   "cell_type": "markdown",
   "metadata": {},
   "source": [
    "## Exploratory Data Analysis (EDA)"
   ]
  },
  {
   "cell_type": "markdown",
   "metadata": {},
   "source": [
    "#### Plotting a boxplot to identify outliers "
   ]
  },
  {
   "cell_type": "code",
   "execution_count": 21,
   "metadata": {
    "scrolled": false
   },
   "outputs": [
    {
     "data": {
      "text/plain": [
       "<matplotlib.collections.PathCollection at 0x1af984ca848>"
      ]
     },
     "execution_count": 21,
     "metadata": {},
     "output_type": "execute_result"
    },
    {
     "data": {
      "image/png": "[encoded data removed]",
      "text/plain": [
       "<Figure size 432x288 with 1 Axes>"
      ]
     },
     "metadata": {
      "needs_background": "light"
     },
     "output_type": "display_data"
    }
   ],
   "source": [
    "plt.scatter(dataset4['age'],dataset4['treatment'])"
   ]
  },
  {
   "cell_type": "code",
   "execution_count": 22,
   "metadata": {},
   "outputs": [
    {
     "data": {
      "text/plain": [
       "<matplotlib.collections.PathCollection at 0x1af9849dac8>"
      ]
     },
     "execution_count": 22,
     "metadata": {},
     "output_type": "execute_result"
    },
    {
     "data": {
      "image/png": "[encoded data removed]",
      "text/plain": [
       "<Figure size 432x288 with 1 Axes>"
      ]
     },
     "metadata": {
      "needs_background": "light"
     },
     "output_type": "display_data"
    }
   ],
   "source": [
    "plt.scatter(dataset4['TestB'],dataset4['treatment'])"
   ]
  },
  {
   "cell_type": "code",
   "execution_count": 23,
   "metadata": {
    "scrolled": true
   },
   "outputs": [
    {
     "data": {
      "text/plain": [
       "<matplotlib.collections.PathCollection at 0x1af98470a08>"
      ]
     },
     "execution_count": 23,
     "metadata": {},
     "output_type": "execute_result"
    },
    {
     "data": {
      "image/png": "[encoded data removed]",
      "text/plain": [
       "<Figure size 432x288 with 1 Axes>"
      ]
     },
     "metadata": {
      "needs_background": "light"
     },
     "output_type": "display_data"
    }
   ],
   "source": [
    "plt.scatter(dataset4['blood_pressure'],dataset4['treatment'])"
   ]
  },
  {
   "cell_type": "code",
   "execution_count": 24,
   "metadata": {},
   "outputs": [],
   "source": [
    "dataset4= dataset4[dataset4['blood_pressure']>0]"
   ]
  },
  {
   "cell_type": "code",
   "execution_count": 25,
   "metadata": {},
   "outputs": [],
   "source": [
    "dataset4= dataset4[dataset4['age']>32]\n",
    "dataset4= dataset4[dataset4['age']<90]"
   ]
  },
  {
   "cell_type": "code",
   "execution_count": 26,
   "metadata": {},
   "outputs": [],
   "source": [
    "dataset4= dataset4[dataset4['TestB']<1.23]"
   ]
  },
  {
   "cell_type": "code",
   "execution_count": 27,
   "metadata": {},
   "outputs": [
    {
     "data": {
      "text/plain": [
       "(9989, 16)"
      ]
     },
     "execution_count": 27,
     "metadata": {},
     "output_type": "execute_result"
    }
   ],
   "source": [
    "dataset4.shape"
   ]
  },
  {
   "cell_type": "markdown",
   "metadata": {},
   "source": [
    "#### Finding correlation between other 'predictors' and target variable"
   ]
  },
  {
   "cell_type": "code",
   "execution_count": 28,
   "metadata": {
    "scrolled": true
   },
   "outputs": [
    {
     "name": "stdout",
     "output_type": "stream",
     "text": [
      "treatment               1.000000\n",
      "Gender_non-female       0.330215\n",
      "Gender_female           0.330215\n",
      "age                     0.148342\n",
      "MeasureA                0.144887\n",
      "Family_History_True     0.134460\n",
      "Family_History_False    0.134460\n",
      "blood_pressure          0.096325\n",
      "TestB                   0.059766\n",
      "Blood_test_positive     0.053323\n",
      "Blood_test_negative     0.053323\n",
      "GeneC                   0.044434\n",
      "GeneB                   0.027173\n",
      "GeneA_none              0.001896\n",
      "GeneA_single            0.001398\n",
      "GeneA_double            0.000797\n",
      "Name: treatment, dtype: float64\n"
     ]
    }
   ],
   "source": [
    "print(dataset4.corr()[\"treatment\"].abs().sort_values(ascending=False))"
   ]
  },
  {
   "cell_type": "markdown",
   "metadata": {},
   "source": [
    "#### Plotting a heatmap in order to understand correlation between variables better "
   ]
  },
  {
   "cell_type": "code",
   "execution_count": 29,
   "metadata": {},
   "outputs": [
    {
     "data": {
      "image/png": "[encoded data removed]",
      "text/plain": [
       "<Figure size 1080x1080 with 2 Axes>"
      ]
     },
     "metadata": {
      "needs_background": "light"
     },
     "output_type": "display_data"
    }
   ],
   "source": [
    "corrmat = dataset4.corr()\n",
    "top_corr_features = corrmat.index\n",
    "plt.figure(figsize=(15,15))\n",
    "g=sns.heatmap(dataset4[top_corr_features].corr(), annot = True, fmt= '.3f') #use matplotlib 3.1.2 or higher\n"
   ]
  },
  {
   "cell_type": "code",
   "execution_count": 30,
   "metadata": {},
   "outputs": [
    {
     "data": {
      "text/html": [
       "<div>\n",
       "<style scoped>\n",
       "    .dataframe tbody tr th:only-of-type {\n",
       "        vertical-align: middle;\n",
       "    }\n",
       "\n",
       "    .dataframe tbody tr th {\n",
       "        vertical-align: top;\n",
       "    }\n",
       "\n",
       "    .dataframe thead th {\n",
       "        text-align: right;\n",
       "    }\n",
       "</style>\n",
       "<table border=\"1\" class=\"dataframe\">\n",
       "  <thead>\n",
       "    <tr style=\"text-align: right;\">\n",
       "      <th></th>\n",
       "      <th>treatment</th>\n",
       "      <th>age</th>\n",
       "      <th>blood_pressure</th>\n",
       "      <th>MeasureA</th>\n",
       "      <th>TestB</th>\n",
       "      <th>GeneB</th>\n",
       "      <th>GeneC</th>\n",
       "      <th>Gender_female</th>\n",
       "      <th>Gender_non-female</th>\n",
       "      <th>Blood_test_negative</th>\n",
       "      <th>Blood_test_positive</th>\n",
       "      <th>Family_History_False</th>\n",
       "      <th>Family_History_True</th>\n",
       "      <th>GeneA_double</th>\n",
       "      <th>GeneA_none</th>\n",
       "      <th>GeneA_single</th>\n",
       "    </tr>\n",
       "  </thead>\n",
       "  <tbody>\n",
       "    <tr>\n",
       "      <td>treatment</td>\n",
       "      <td>1.000000</td>\n",
       "      <td>-0.148342</td>\n",
       "      <td>0.096325</td>\n",
       "      <td>0.144887</td>\n",
       "      <td>0.059766</td>\n",
       "      <td>0.027173</td>\n",
       "      <td>0.044434</td>\n",
       "      <td>-0.330215</td>\n",
       "      <td>0.330215</td>\n",
       "      <td>0.053323</td>\n",
       "      <td>-0.053323</td>\n",
       "      <td>-0.134460</td>\n",
       "      <td>0.134460</td>\n",
       "      <td>0.000797</td>\n",
       "      <td>-0.001896</td>\n",
       "      <td>0.001398</td>\n",
       "    </tr>\n",
       "    <tr>\n",
       "      <td>age</td>\n",
       "      <td>-0.148342</td>\n",
       "      <td>1.000000</td>\n",
       "      <td>0.002214</td>\n",
       "      <td>-0.970605</td>\n",
       "      <td>-0.003250</td>\n",
       "      <td>0.017322</td>\n",
       "      <td>0.014372</td>\n",
       "      <td>-0.004621</td>\n",
       "      <td>0.004621</td>\n",
       "      <td>0.006782</td>\n",
       "      <td>-0.006782</td>\n",
       "      <td>0.002061</td>\n",
       "      <td>-0.002061</td>\n",
       "      <td>0.003721</td>\n",
       "      <td>-0.007263</td>\n",
       "      <td>0.004565</td>\n",
       "    </tr>\n",
       "    <tr>\n",
       "      <td>blood_pressure</td>\n",
       "      <td>0.096325</td>\n",
       "      <td>0.002214</td>\n",
       "      <td>1.000000</td>\n",
       "      <td>-0.001424</td>\n",
       "      <td>0.009188</td>\n",
       "      <td>-0.001465</td>\n",
       "      <td>-0.010596</td>\n",
       "      <td>-0.006517</td>\n",
       "      <td>0.006517</td>\n",
       "      <td>-0.000841</td>\n",
       "      <td>0.000841</td>\n",
       "      <td>0.015513</td>\n",
       "      <td>-0.015513</td>\n",
       "      <td>0.018181</td>\n",
       "      <td>-0.022557</td>\n",
       "      <td>0.006347</td>\n",
       "    </tr>\n",
       "    <tr>\n",
       "      <td>MeasureA</td>\n",
       "      <td>0.144887</td>\n",
       "      <td>-0.970605</td>\n",
       "      <td>-0.001424</td>\n",
       "      <td>1.000000</td>\n",
       "      <td>0.003938</td>\n",
       "      <td>-0.017271</td>\n",
       "      <td>-0.014164</td>\n",
       "      <td>0.007406</td>\n",
       "      <td>-0.007406</td>\n",
       "      <td>-0.007610</td>\n",
       "      <td>0.007610</td>\n",
       "      <td>-0.001160</td>\n",
       "      <td>0.001160</td>\n",
       "      <td>-0.001471</td>\n",
       "      <td>0.008031</td>\n",
       "      <td>-0.008175</td>\n",
       "    </tr>\n",
       "    <tr>\n",
       "      <td>TestB</td>\n",
       "      <td>0.059766</td>\n",
       "      <td>-0.003250</td>\n",
       "      <td>0.009188</td>\n",
       "      <td>0.003938</td>\n",
       "      <td>1.000000</td>\n",
       "      <td>-0.017004</td>\n",
       "      <td>0.003379</td>\n",
       "      <td>0.010961</td>\n",
       "      <td>-0.010961</td>\n",
       "      <td>0.000960</td>\n",
       "      <td>-0.000960</td>\n",
       "      <td>-0.010484</td>\n",
       "      <td>0.010484</td>\n",
       "      <td>0.008381</td>\n",
       "      <td>-0.009942</td>\n",
       "      <td>0.002363</td>\n",
       "    </tr>\n",
       "    <tr>\n",
       "      <td>GeneB</td>\n",
       "      <td>0.027173</td>\n",
       "      <td>0.017322</td>\n",
       "      <td>-0.001465</td>\n",
       "      <td>-0.017271</td>\n",
       "      <td>-0.017004</td>\n",
       "      <td>1.000000</td>\n",
       "      <td>0.008079</td>\n",
       "      <td>0.011171</td>\n",
       "      <td>-0.011171</td>\n",
       "      <td>-0.011809</td>\n",
       "      <td>0.011809</td>\n",
       "      <td>0.009740</td>\n",
       "      <td>-0.009740</td>\n",
       "      <td>-0.009755</td>\n",
       "      <td>0.006570</td>\n",
       "      <td>0.003425</td>\n",
       "    </tr>\n",
       "    <tr>\n",
       "      <td>GeneC</td>\n",
       "      <td>0.044434</td>\n",
       "      <td>0.014372</td>\n",
       "      <td>-0.010596</td>\n",
       "      <td>-0.014164</td>\n",
       "      <td>0.003379</td>\n",
       "      <td>0.008079</td>\n",
       "      <td>1.000000</td>\n",
       "      <td>-0.003044</td>\n",
       "      <td>0.003044</td>\n",
       "      <td>0.011747</td>\n",
       "      <td>-0.011747</td>\n",
       "      <td>-0.008004</td>\n",
       "      <td>0.008004</td>\n",
       "      <td>0.007283</td>\n",
       "      <td>-0.002677</td>\n",
       "      <td>-0.005308</td>\n",
       "    </tr>\n",
       "    <tr>\n",
       "      <td>Gender_female</td>\n",
       "      <td>-0.330215</td>\n",
       "      <td>-0.004621</td>\n",
       "      <td>-0.006517</td>\n",
       "      <td>0.007406</td>\n",
       "      <td>0.010961</td>\n",
       "      <td>0.011171</td>\n",
       "      <td>-0.003044</td>\n",
       "      <td>1.000000</td>\n",
       "      <td>-1.000000</td>\n",
       "      <td>0.014912</td>\n",
       "      <td>-0.014912</td>\n",
       "      <td>-0.015446</td>\n",
       "      <td>0.015446</td>\n",
       "      <td>-0.014728</td>\n",
       "      <td>0.006618</td>\n",
       "      <td>0.009246</td>\n",
       "    </tr>\n",
       "    <tr>\n",
       "      <td>Gender_non-female</td>\n",
       "      <td>0.330215</td>\n",
       "      <td>0.004621</td>\n",
       "      <td>0.006517</td>\n",
       "      <td>-0.007406</td>\n",
       "      <td>-0.010961</td>\n",
       "      <td>-0.011171</td>\n",
       "      <td>0.003044</td>\n",
       "      <td>-1.000000</td>\n",
       "      <td>1.000000</td>\n",
       "      <td>-0.014912</td>\n",
       "      <td>0.014912</td>\n",
       "      <td>0.015446</td>\n",
       "      <td>-0.015446</td>\n",
       "      <td>0.014728</td>\n",
       "      <td>-0.006618</td>\n",
       "      <td>-0.009246</td>\n",
       "    </tr>\n",
       "    <tr>\n",
       "      <td>Blood_test_negative</td>\n",
       "      <td>0.053323</td>\n",
       "      <td>0.006782</td>\n",
       "      <td>-0.000841</td>\n",
       "      <td>-0.007610</td>\n",
       "      <td>0.000960</td>\n",
       "      <td>-0.011809</td>\n",
       "      <td>0.011747</td>\n",
       "      <td>0.014912</td>\n",
       "      <td>-0.014912</td>\n",
       "      <td>1.000000</td>\n",
       "      <td>-1.000000</td>\n",
       "      <td>-0.001142</td>\n",
       "      <td>0.001142</td>\n",
       "      <td>-0.009817</td>\n",
       "      <td>-0.000261</td>\n",
       "      <td>0.011931</td>\n",
       "    </tr>\n",
       "    <tr>\n",
       "      <td>Blood_test_positive</td>\n",
       "      <td>-0.053323</td>\n",
       "      <td>-0.006782</td>\n",
       "      <td>0.000841</td>\n",
       "      <td>0.007610</td>\n",
       "      <td>-0.000960</td>\n",
       "      <td>0.011809</td>\n",
       "      <td>-0.011747</td>\n",
       "      <td>-0.014912</td>\n",
       "      <td>0.014912</td>\n",
       "      <td>-1.000000</td>\n",
       "      <td>1.000000</td>\n",
       "      <td>0.001142</td>\n",
       "      <td>-0.001142</td>\n",
       "      <td>0.009817</td>\n",
       "      <td>0.000261</td>\n",
       "      <td>-0.011931</td>\n",
       "    </tr>\n",
       "    <tr>\n",
       "      <td>Family_History_False</td>\n",
       "      <td>-0.134460</td>\n",
       "      <td>0.002061</td>\n",
       "      <td>0.015513</td>\n",
       "      <td>-0.001160</td>\n",
       "      <td>-0.010484</td>\n",
       "      <td>0.009740</td>\n",
       "      <td>-0.008004</td>\n",
       "      <td>-0.015446</td>\n",
       "      <td>0.015446</td>\n",
       "      <td>-0.001142</td>\n",
       "      <td>0.001142</td>\n",
       "      <td>1.000000</td>\n",
       "      <td>-1.000000</td>\n",
       "      <td>0.022816</td>\n",
       "      <td>-0.006452</td>\n",
       "      <td>-0.019016</td>\n",
       "    </tr>\n",
       "    <tr>\n",
       "      <td>Family_History_True</td>\n",
       "      <td>0.134460</td>\n",
       "      <td>-0.002061</td>\n",
       "      <td>-0.015513</td>\n",
       "      <td>0.001160</td>\n",
       "      <td>0.010484</td>\n",
       "      <td>-0.009740</td>\n",
       "      <td>0.008004</td>\n",
       "      <td>0.015446</td>\n",
       "      <td>-0.015446</td>\n",
       "      <td>0.001142</td>\n",
       "      <td>-0.001142</td>\n",
       "      <td>-1.000000</td>\n",
       "      <td>1.000000</td>\n",
       "      <td>-0.022816</td>\n",
       "      <td>0.006452</td>\n",
       "      <td>0.019016</td>\n",
       "    </tr>\n",
       "    <tr>\n",
       "      <td>GeneA_double</td>\n",
       "      <td>0.000797</td>\n",
       "      <td>0.003721</td>\n",
       "      <td>0.018181</td>\n",
       "      <td>-0.001471</td>\n",
       "      <td>0.008381</td>\n",
       "      <td>-0.009755</td>\n",
       "      <td>0.007283</td>\n",
       "      <td>-0.014728</td>\n",
       "      <td>0.014728</td>\n",
       "      <td>-0.009817</td>\n",
       "      <td>0.009817</td>\n",
       "      <td>0.022816</td>\n",
       "      <td>-0.022816</td>\n",
       "      <td>1.000000</td>\n",
       "      <td>-0.658410</td>\n",
       "      <td>-0.369716</td>\n",
       "    </tr>\n",
       "    <tr>\n",
       "      <td>GeneA_none</td>\n",
       "      <td>-0.001896</td>\n",
       "      <td>-0.007263</td>\n",
       "      <td>-0.022557</td>\n",
       "      <td>0.008031</td>\n",
       "      <td>-0.009942</td>\n",
       "      <td>0.006570</td>\n",
       "      <td>-0.002677</td>\n",
       "      <td>0.006618</td>\n",
       "      <td>-0.006618</td>\n",
       "      <td>-0.000261</td>\n",
       "      <td>0.000261</td>\n",
       "      <td>-0.006452</td>\n",
       "      <td>0.006452</td>\n",
       "      <td>-0.658410</td>\n",
       "      <td>1.000000</td>\n",
       "      <td>-0.455905</td>\n",
       "    </tr>\n",
       "    <tr>\n",
       "      <td>GeneA_single</td>\n",
       "      <td>0.001398</td>\n",
       "      <td>0.004565</td>\n",
       "      <td>0.006347</td>\n",
       "      <td>-0.008175</td>\n",
       "      <td>0.002363</td>\n",
       "      <td>0.003425</td>\n",
       "      <td>-0.005308</td>\n",
       "      <td>0.009246</td>\n",
       "      <td>-0.009246</td>\n",
       "      <td>0.011931</td>\n",
       "      <td>-0.011931</td>\n",
       "      <td>-0.019016</td>\n",
       "      <td>0.019016</td>\n",
       "      <td>-0.369716</td>\n",
       "      <td>-0.455905</td>\n",
       "      <td>1.000000</td>\n",
       "    </tr>\n",
       "  </tbody>\n",
       "</table>\n",
       "</div>"
      ],
      "text/plain": [
       "                      treatment       age  blood_pressure  MeasureA     TestB  \\\n",
       "treatment              1.000000 -0.148342        0.096325  0.144887  0.059766   \n",
       "age                   -0.148342  1.000000        0.002214 -0.970605 -0.003250   \n",
       "blood_pressure         0.096325  0.002214        1.000000 -0.001424  0.009188   \n",
       "MeasureA               0.144887 -0.970605       -0.001424  1.000000  0.003938   \n",
       "TestB                  0.059766 -0.003250        0.009188  0.003938  1.000000   \n",
       "GeneB                  0.027173  0.017322       -0.001465 -0.017271 -0.017004   \n",
       "GeneC                  0.044434  0.014372       -0.010596 -0.014164  0.003379   \n",
       "Gender_female         -0.330215 -0.004621       -0.006517  0.007406  0.010961   \n",
       "Gender_non-female      0.330215  0.004621        0.006517 -0.007406 -0.010961   \n",
       "Blood_test_negative    0.053323  0.006782       -0.000841 -0.007610  0.000960   \n",
       "Blood_test_positive   -0.053323 -0.006782        0.000841  0.007610 -0.000960   \n",
       "Family_History_False  -0.134460  0.002061        0.015513 -0.001160 -0.010484   \n",
       "Family_History_True    0.134460 -0.002061       -0.015513  0.001160  0.010484   \n",
       "GeneA_double           0.000797  0.003721        0.018181 -0.001471  0.008381   \n",
       "GeneA_none            -0.001896 -0.007263       -0.022557  0.008031 -0.009942   \n",
       "GeneA_single           0.001398  0.004565        0.006347 -0.008175  0.002363   \n",
       "\n",
       "                         GeneB     GeneC  Gender_female  Gender_non-female  \\\n",
       "treatment             0.027173  0.044434      -0.330215           0.330215   \n",
       "age                   0.017322  0.014372      -0.004621           0.004621   \n",
       "blood_pressure       -0.001465 -0.010596      -0.006517           0.006517   \n",
       "MeasureA             -0.017271 -0.014164       0.007406          -0.007406   \n",
       "TestB                -0.017004  0.003379       0.010961          -0.010961   \n",
       "GeneB                 1.000000  0.008079       0.011171          -0.011171   \n",
       "GeneC                 0.008079  1.000000      -0.003044           0.003044   \n",
       "Gender_female         0.011171 -0.003044       1.000000          -1.000000   \n",
       "Gender_non-female    -0.011171  0.003044      -1.000000           1.000000   \n",
       "Blood_test_negative  -0.011809  0.011747       0.014912          -0.014912   \n",
       "Blood_test_positive   0.011809 -0.011747      -0.014912           0.014912   \n",
       "Family_History_False  0.009740 -0.008004      -0.015446           0.015446   \n",
       "Family_History_True  -0.009740  0.008004       0.015446          -0.015446   \n",
       "GeneA_double         -0.009755  0.007283      -0.014728           0.014728   \n",
       "GeneA_none            0.006570 -0.002677       0.006618          -0.006618   \n",
       "GeneA_single          0.003425 -0.005308       0.009246          -0.009246   \n",
       "\n",
       "                      Blood_test_negative  Blood_test_positive  \\\n",
       "treatment                        0.053323            -0.053323   \n",
       "age                              0.006782            -0.006782   \n",
       "blood_pressure                  -0.000841             0.000841   \n",
       "MeasureA                        -0.007610             0.007610   \n",
       "TestB                            0.000960            -0.000960   \n",
       "GeneB                           -0.011809             0.011809   \n",
       "GeneC                            0.011747            -0.011747   \n",
       "Gender_female                    0.014912            -0.014912   \n",
       "Gender_non-female               -0.014912             0.014912   \n",
       "Blood_test_negative              1.000000            -1.000000   \n",
       "Blood_test_positive             -1.000000             1.000000   \n",
       "Family_History_False            -0.001142             0.001142   \n",
       "Family_History_True              0.001142            -0.001142   \n",
       "GeneA_double                    -0.009817             0.009817   \n",
       "GeneA_none                      -0.000261             0.000261   \n",
       "GeneA_single                     0.011931            -0.011931   \n",
       "\n",
       "                      Family_History_False  Family_History_True  GeneA_double  \\\n",
       "treatment                        -0.134460             0.134460      0.000797   \n",
       "age                               0.002061            -0.002061      0.003721   \n",
       "blood_pressure                    0.015513            -0.015513      0.018181   \n",
       "MeasureA                         -0.001160             0.001160     -0.001471   \n",
       "TestB                            -0.010484             0.010484      0.008381   \n",
       "GeneB                             0.009740            -0.009740     -0.009755   \n",
       "GeneC                            -0.008004             0.008004      0.007283   \n",
       "Gender_female                    -0.015446             0.015446     -0.014728   \n",
       "Gender_non-female                 0.015446            -0.015446      0.014728   \n",
       "Blood_test_negative              -0.001142             0.001142     -0.009817   \n",
       "Blood_test_positive               0.001142            -0.001142      0.009817   \n",
       "Family_History_False              1.000000            -1.000000      0.022816   \n",
       "Family_History_True              -1.000000             1.000000     -0.022816   \n",
       "GeneA_double                      0.022816            -0.022816      1.000000   \n",
       "GeneA_none                       -0.006452             0.006452     -0.658410   \n",
       "GeneA_single                     -0.019016             0.019016     -0.369716   \n",
       "\n",
       "                      GeneA_none  GeneA_single  \n",
       "treatment              -0.001896      0.001398  \n",
       "age                    -0.007263      0.004565  \n",
       "blood_pressure         -0.022557      0.006347  \n",
       "MeasureA                0.008031     -0.008175  \n",
       "TestB                  -0.009942      0.002363  \n",
       "GeneB                   0.006570      0.003425  \n",
       "GeneC                  -0.002677     -0.005308  \n",
       "Gender_female           0.006618      0.009246  \n",
       "Gender_non-female      -0.006618     -0.009246  \n",
       "Blood_test_negative    -0.000261      0.011931  \n",
       "Blood_test_positive     0.000261     -0.011931  \n",
       "Family_History_False   -0.006452     -0.019016  \n",
       "Family_History_True     0.006452      0.019016  \n",
       "GeneA_double           -0.658410     -0.369716  \n",
       "GeneA_none              1.000000     -0.455905  \n",
       "GeneA_single           -0.455905      1.000000  "
      ]
     },
     "execution_count": 30,
     "metadata": {},
     "output_type": "execute_result"
    }
   ],
   "source": [
    "dataset4.corr()"
   ]
  },
  {
   "cell_type": "markdown",
   "metadata": {},
   "source": [
    "#### Dropping the columns(features) that are not very useful in our calculations"
   ]
  },
  {
   "cell_type": "code",
   "execution_count": 31,
   "metadata": {
    "scrolled": true
   },
   "outputs": [],
   "source": [
    "dataset4.drop(['MeasureA', 'GeneA_double', 'GeneA_none', 'GeneA_single'], axis='columns', inplace=True)"
   ]
  },
  {
   "cell_type": "code",
   "execution_count": 32,
   "metadata": {},
   "outputs": [
    {
     "data": {
      "text/html": [
       "<div>\n",
       "<style scoped>\n",
       "    .dataframe tbody tr th:only-of-type {\n",
       "        vertical-align: middle;\n",
       "    }\n",
       "\n",
       "    .dataframe tbody tr th {\n",
       "        vertical-align: top;\n",
       "    }\n",
       "\n",
       "    .dataframe thead th {\n",
       "        text-align: right;\n",
       "    }\n",
       "</style>\n",
       "<table border=\"1\" class=\"dataframe\">\n",
       "  <thead>\n",
       "    <tr style=\"text-align: right;\">\n",
       "      <th></th>\n",
       "      <th>treatment</th>\n",
       "      <th>age</th>\n",
       "      <th>blood_pressure</th>\n",
       "      <th>TestB</th>\n",
       "      <th>GeneB</th>\n",
       "      <th>GeneC</th>\n",
       "      <th>Gender_female</th>\n",
       "      <th>Gender_non-female</th>\n",
       "      <th>Blood_test_negative</th>\n",
       "      <th>Blood_test_positive</th>\n",
       "      <th>Family_History_False</th>\n",
       "      <th>Family_History_True</th>\n",
       "    </tr>\n",
       "  </thead>\n",
       "  <tbody>\n",
       "    <tr>\n",
       "      <td>0</td>\n",
       "      <td>1</td>\n",
       "      <td>74</td>\n",
       "      <td>94.113373</td>\n",
       "      <td>-0.336843</td>\n",
       "      <td>1</td>\n",
       "      <td>0</td>\n",
       "      <td>0</td>\n",
       "      <td>1</td>\n",
       "      <td>1</td>\n",
       "      <td>0</td>\n",
       "      <td>1</td>\n",
       "      <td>0</td>\n",
       "    </tr>\n",
       "    <tr>\n",
       "      <td>1</td>\n",
       "      <td>1</td>\n",
       "      <td>56</td>\n",
       "      <td>83.337745</td>\n",
       "      <td>-0.018734</td>\n",
       "      <td>1</td>\n",
       "      <td>1</td>\n",
       "      <td>0</td>\n",
       "      <td>1</td>\n",
       "      <td>1</td>\n",
       "      <td>0</td>\n",
       "      <td>1</td>\n",
       "      <td>0</td>\n",
       "    </tr>\n",
       "    <tr>\n",
       "      <td>2</td>\n",
       "      <td>0</td>\n",
       "      <td>37</td>\n",
       "      <td>81.759240</td>\n",
       "      <td>0.147933</td>\n",
       "      <td>1</td>\n",
       "      <td>1</td>\n",
       "      <td>1</td>\n",
       "      <td>0</td>\n",
       "      <td>1</td>\n",
       "      <td>0</td>\n",
       "      <td>1</td>\n",
       "      <td>0</td>\n",
       "    </tr>\n",
       "    <tr>\n",
       "      <td>3</td>\n",
       "      <td>1</td>\n",
       "      <td>54</td>\n",
       "      <td>88.549518</td>\n",
       "      <td>-0.338373</td>\n",
       "      <td>1</td>\n",
       "      <td>1</td>\n",
       "      <td>1</td>\n",
       "      <td>0</td>\n",
       "      <td>1</td>\n",
       "      <td>0</td>\n",
       "      <td>1</td>\n",
       "      <td>0</td>\n",
       "    </tr>\n",
       "    <tr>\n",
       "      <td>4</td>\n",
       "      <td>0</td>\n",
       "      <td>73</td>\n",
       "      <td>82.171555</td>\n",
       "      <td>-0.369325</td>\n",
       "      <td>1</td>\n",
       "      <td>1</td>\n",
       "      <td>1</td>\n",
       "      <td>0</td>\n",
       "      <td>1</td>\n",
       "      <td>0</td>\n",
       "      <td>1</td>\n",
       "      <td>0</td>\n",
       "    </tr>\n",
       "  </tbody>\n",
       "</table>\n",
       "</div>"
      ],
      "text/plain": [
       "   treatment  age  blood_pressure     TestB  GeneB  GeneC  Gender_female  \\\n",
       "0          1   74       94.113373 -0.336843      1      0              0   \n",
       "1          1   56       83.337745 -0.018734      1      1              0   \n",
       "2          0   37       81.759240  0.147933      1      1              1   \n",
       "3          1   54       88.549518 -0.338373      1      1              1   \n",
       "4          0   73       82.171555 -0.369325      1      1              1   \n",
       "\n",
       "   Gender_non-female  Blood_test_negative  Blood_test_positive  \\\n",
       "0                  1                    1                    0   \n",
       "1                  1                    1                    0   \n",
       "2                  0                    1                    0   \n",
       "3                  0                    1                    0   \n",
       "4                  0                    1                    0   \n",
       "\n",
       "   Family_History_False  Family_History_True  \n",
       "0                     1                    0  \n",
       "1                     1                    0  \n",
       "2                     1                    0  \n",
       "3                     1                    0  \n",
       "4                     1                    0  "
      ]
     },
     "execution_count": 32,
     "metadata": {},
     "output_type": "execute_result"
    }
   ],
   "source": [
    "dataset4.head()"
   ]
  },
  {
   "cell_type": "markdown",
   "metadata": {},
   "source": [
    "## IV. Train Test split"
   ]
  },
  {
   "cell_type": "code",
   "execution_count": 33,
   "metadata": {},
   "outputs": [],
   "source": [
    "from sklearn.model_selection import train_test_split\n",
    "from sklearn.preprocessing import scale"
   ]
  },
  {
   "cell_type": "markdown",
   "metadata": {},
   "source": [
    "#### Setting treatment as the dependent/target variable and the rest of the variables are predictors"
   ]
  },
  {
   "cell_type": "code",
   "execution_count": 34,
   "metadata": {},
   "outputs": [],
   "source": [
    "predictors = dataset4.drop(\"treatment\",axis=1)\n",
    "target = dataset4[\"treatment\"]"
   ]
  },
  {
   "cell_type": "code",
   "execution_count": 35,
   "metadata": {},
   "outputs": [
    {
     "data": {
      "text/plain": [
       "Index(['age', 'blood_pressure', 'TestB', 'GeneB', 'GeneC', 'Gender_female',\n",
       "       'Gender_non-female', 'Blood_test_negative', 'Blood_test_positive',\n",
       "       'Family_History_False', 'Family_History_True'],\n",
       "      dtype='object')"
      ]
     },
     "execution_count": 35,
     "metadata": {},
     "output_type": "execute_result"
    }
   ],
   "source": [
    "# scaling (the df is converted to a numpy array)\n",
    "cols = predictors.columns\n",
    "predictors = pd.DataFrame(scale(predictors))\n",
    "predictors.columns = cols\n",
    "predictors.columns"
   ]
  },
  {
   "cell_type": "code",
   "execution_count": 51,
   "metadata": {},
   "outputs": [],
   "source": [
    "X_train,X_test,y_train,y_test = train_test_split(predictors,target,train_size=0.80,test_size=0.20,random_state=0)"
   ]
  },
  {
   "cell_type": "markdown",
   "metadata": {},
   "source": [
    "## V. Model Fitting"
   ]
  },
  {
   "cell_type": "code",
   "execution_count": 53,
   "metadata": {},
   "outputs": [],
   "source": [
    "\n",
    "from math import sqrt\n",
    "from sklearn.metrics import classification_report, confusion_matrix, accuracy_score"
   ]
  },
  {
   "cell_type": "markdown",
   "metadata": {},
   "source": [
    "### Logistic Regression"
   ]
  },
  {
   "cell_type": "code",
   "execution_count": 54,
   "metadata": {},
   "outputs": [
    {
     "name": "stderr",
     "output_type": "stream",
     "text": [
      "C:\\Users\\Srinivas Bhat\\Anaconda3\\lib\\site-packages\\sklearn\\linear_model\\logistic.py:432: FutureWarning: Default solver will be changed to 'lbfgs' in 0.22. Specify a solver to silence this warning.\n",
      "  FutureWarning)\n"
     ]
    }
   ],
   "source": [
    "from sklearn.linear_model import LogisticRegression\n",
    "#X_train, X_test, y_train, y_test = train_test_split(predictors, target, test_size=0.3, random_state=0)\n",
    "\n",
    "lr = LogisticRegression()\n",
    "\n",
    "lr.fit(X_train,y_train)\n",
    "\n",
    "Y_pred = lr.predict(X_test)"
   ]
  },
  {
   "cell_type": "code",
   "execution_count": 55,
   "metadata": {},
   "outputs": [
    {
     "data": {
      "text/plain": [
       "(1998,)"
      ]
     },
     "execution_count": 55,
     "metadata": {},
     "output_type": "execute_result"
    }
   ],
   "source": [
    "Y_pred.shape"
   ]
  },
  {
   "cell_type": "code",
   "execution_count": 56,
   "metadata": {},
   "outputs": [
    {
     "name": "stdout",
     "output_type": "stream",
     "text": [
      "Accuracy of logistic regression classifier on test set: 0.73\n"
     ]
    }
   ],
   "source": [
    "print('Accuracy of logistic regression classifier on test set: {:.2f}'.format(lr.score(X_test, y_test)))\n"
   ]
  },
  {
   "cell_type": "code",
   "execution_count": 57,
   "metadata": {
    "scrolled": true
   },
   "outputs": [
    {
     "data": {
      "text/html": [
       "<div>\n",
       "<style scoped>\n",
       "    .dataframe tbody tr th:only-of-type {\n",
       "        vertical-align: middle;\n",
       "    }\n",
       "\n",
       "    .dataframe tbody tr th {\n",
       "        vertical-align: top;\n",
       "    }\n",
       "\n",
       "    .dataframe thead th {\n",
       "        text-align: right;\n",
       "    }\n",
       "</style>\n",
       "<table border=\"1\" class=\"dataframe\">\n",
       "  <thead>\n",
       "    <tr style=\"text-align: right;\">\n",
       "      <th></th>\n",
       "      <th>Predicted 0</th>\n",
       "      <th>Predicted 1</th>\n",
       "    </tr>\n",
       "  </thead>\n",
       "  <tbody>\n",
       "    <tr>\n",
       "      <td>Actual 0</td>\n",
       "      <td>1116</td>\n",
       "      <td>200</td>\n",
       "    </tr>\n",
       "    <tr>\n",
       "      <td>Actual 1</td>\n",
       "      <td>347</td>\n",
       "      <td>335</td>\n",
       "    </tr>\n",
       "  </tbody>\n",
       "</table>\n",
       "</div>"
      ],
      "text/plain": [
       "          Predicted 0  Predicted 1\n",
       "Actual 0         1116          200\n",
       "Actual 1          347          335"
      ]
     },
     "execution_count": 57,
     "metadata": {},
     "output_type": "execute_result"
    }
   ],
   "source": [
    "from sklearn.metrics import confusion_matrix\n",
    "cm = confusion_matrix(y_test, Y_pred)\n",
    "pd.DataFrame(confusion_matrix(y_test, Y_pred), columns=['Predicted 0', \"Predicted 1\"], index=['Actual 0', 'Actual 1'])"
   ]
  },
  {
   "cell_type": "code",
   "execution_count": 58,
   "metadata": {},
   "outputs": [
    {
     "name": "stdout",
     "output_type": "stream",
     "text": [
      "True Positives: 335\n",
      "False Positives: 200\n",
      "True Negatives: 1116\n",
      "False Negatives: 347\n"
     ]
    }
   ],
   "source": [
    "tn, fp, fn, tp = confusion_matrix(y_test, Y_pred).ravel()\n",
    "print(f'True Positives: {tp}')\n",
    "print(f'False Positives: {fp}')\n",
    "print(f'True Negatives: {tn}')\n",
    "print(f'False Negatives: {fn}')"
   ]
  },
  {
   "cell_type": "code",
   "execution_count": 59,
   "metadata": {},
   "outputs": [],
   "source": [
    "probas = lr.predict_proba(X_test)[:, 1]"
   ]
  },
  {
   "cell_type": "code",
   "execution_count": 60,
   "metadata": {},
   "outputs": [],
   "source": [
    "def get_preds(threshold, probabilities):\n",
    "    return [1 if prob > threshold else 0 for prob in probabilities]"
   ]
  },
  {
   "cell_type": "code",
   "execution_count": 61,
   "metadata": {},
   "outputs": [],
   "source": [
    "roc_values = []\n",
    "for thresh in np.linspace(0, 1, 100):\n",
    "    preds = get_preds(thresh, probas)\n",
    "    tn, fp, fn, tp = confusion_matrix(y_test, preds).ravel()\n",
    "    tpr = tp/(tp+fn)\n",
    "    fpr = fp/(fp+tn)\n",
    "    roc_values.append([tpr, fpr])\n",
    "tpr_values, fpr_values = zip(*roc_values)"
   ]
  },
  {
   "cell_type": "code",
   "execution_count": 62,
   "metadata": {},
   "outputs": [
    {
     "data": {
      "image/png": "[encoded data removed]",
      "text/plain": [
       "<Figure size 720x504 with 1 Axes>"
      ]
     },
     "metadata": {
      "needs_background": "light"
     },
     "output_type": "display_data"
    }
   ],
   "source": [
    "fig, ax = plt.subplots(figsize=(10,7))\n",
    "ax.plot(fpr_values, tpr_values)\n",
    "ax.plot(np.linspace(0, 1, 100),\n",
    "         np.linspace(0, 1, 100),\n",
    "         label='baseline',\n",
    "         linestyle='--')\n",
    "plt.title('Receiver Operating Characteristic Curve', fontsize=18)\n",
    "plt.ylabel('TPR', fontsize=16)\n",
    "plt.xlabel('FPR', fontsize=16)\n",
    "plt.legend(fontsize=12);\n"
   ]
  },
  {
   "cell_type": "code",
   "execution_count": 63,
   "metadata": {},
   "outputs": [
    {
     "data": {
      "text/plain": [
       "0.7380235584593855"
      ]
     },
     "execution_count": 63,
     "metadata": {},
     "output_type": "execute_result"
    }
   ],
   "source": [
    "from sklearn.metrics import roc_auc_score\n",
    "roc_auc_score(y_test, probas )"
   ]
  },
  {
   "cell_type": "code",
   "execution_count": 64,
   "metadata": {},
   "outputs": [
    {
     "name": "stdout",
     "output_type": "stream",
     "text": [
      "              precision    recall  f1-score   support\n",
      "\n",
      "           0       0.76      0.85      0.80      1316\n",
      "           1       0.63      0.49      0.55       682\n",
      "\n",
      "    accuracy                           0.73      1998\n",
      "   macro avg       0.69      0.67      0.68      1998\n",
      "weighted avg       0.72      0.73      0.72      1998\n",
      "\n"
     ]
    }
   ],
   "source": [
    "print(classification_report(y_test, Y_pred))"
   ]
  },
  {
   "cell_type": "code",
   "execution_count": 65,
   "metadata": {},
   "outputs": [
    {
     "name": "stdout",
     "output_type": "stream",
     "text": [
      "Accuracy of logistic regression classifier on test set: 0.73\n"
     ]
    },
    {
     "name": "stderr",
     "output_type": "stream",
     "text": [
      "C:\\Users\\Srinivas Bhat\\Anaconda3\\lib\\site-packages\\sklearn\\linear_model\\logistic.py:432: FutureWarning: Default solver will be changed to 'lbfgs' in 0.22. Specify a solver to silence this warning.\n",
      "  FutureWarning)\n"
     ]
    }
   ],
   "source": [
    "from sklearn.linear_model import LogisticRegression\n",
    "#X_train, X_test, y_train, y_test = train_test_split(predictors, target, test_size=0.3, random_state=0)\n",
    "\n",
    "lr_l1 = LogisticRegression(penalty='l1')\n",
    "\n",
    "lr_l1.fit(X_train,y_train)\n",
    "\n",
    "Y_pred_l1 = lr_l1.predict(X_test)\n",
    "\n",
    "print('Accuracy of logistic regression classifier on test set: {:.2f}'.format(lr_l1.score(X_test, y_test)))\n"
   ]
  },
  {
   "cell_type": "code",
   "execution_count": 66,
   "metadata": {},
   "outputs": [
    {
     "name": "stdout",
     "output_type": "stream",
     "text": [
      "Accuracy of logistic regression classifier on test set: 0.73\n"
     ]
    }
   ],
   "source": [
    "from sklearn.linear_model import LogisticRegression\n",
    "#X_train, X_test, y_train, y_test = train_test_split(predictors, target, test_size=0.3, random_state=0)\n",
    "\n",
    "lr_en = LogisticRegression(penalty='elasticnet', solver = 'saga', l1_ratio= 0.1)\n",
    "\n",
    "lr_en.fit(X_train,y_train)\n",
    "\n",
    "Y_pred_en = lr_en.predict(X_test)\n",
    "\n",
    "print('Accuracy of logistic regression classifier on test set: {:.2f}'.format(lr_en.score(X_test, y_test)))\n"
   ]
  },
  {
   "cell_type": "markdown",
   "metadata": {},
   "source": [
    "#### Even with regularization, the models give same accuracy"
   ]
  }
 ],
 "metadata": {
  "kernelspec": {
   "display_name": "Python 3",
   "language": "python",
   "name": "python3"
  },
  "language_info": {
   "codemirror_mode": {
    "name": "ipython",
    "version": 3
   },
   "file_extension": ".py",
   "mimetype": "text/x-python",
   "name": "python",
   "nbconvert_exporter": "python",
   "pygments_lexer": "ipython3",
   "version": "3.7.4"
  }
 },
 "nbformat": 4,
 "nbformat_minor": 2
}
